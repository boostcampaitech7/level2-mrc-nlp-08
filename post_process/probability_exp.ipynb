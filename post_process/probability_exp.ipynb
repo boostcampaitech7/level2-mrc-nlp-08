{
 "cells": [
  {
   "cell_type": "code",
   "execution_count": 2,
   "metadata": {},
   "outputs": [],
   "source": [
    "import json\n",
    "from collections import defaultdict\n",
    "\n",
    "def extract_best_texts(data):\n",
    "    # 결과를 저장할 딕셔너리 (text만 저장)\n",
    "    final_results = {}\n",
    "    \n",
    "    # 각 MRC ID에 대해 처리\n",
    "    for mrc_id, predictions in data.items():\n",
    "        # 같은 텍스트끼리 probability를 합산할 딕셔너리\n",
    "        text_prob_sum = defaultdict(float)\n",
    "        \n",
    "        # 각 예측에 대해\n",
    "        for pred in predictions:\n",
    "            text = pred['text']\n",
    "            prob = pred['probability']\n",
    "            text_prob_sum[text] += prob\n",
    "        \n",
    "        # probability 합계를 기준으로 내림차순 정렬\n",
    "        sorted_results = sorted(\n",
    "            text_prob_sum.items(),\n",
    "            key=lambda x: x[1],\n",
    "            reverse=True\n",
    "        )\n",
    "        \n",
    "        # 가장 높은 probability를 가진 텍스트만 저장\n",
    "        if sorted_results:\n",
    "            final_results[mrc_id] = sorted_results[0][0]  # text만 저장\n",
    "    \n",
    "    return final_results\n",
    "\n",
    "\n",
    "# JSON 파일로 저장하는 함수\n",
    "def save_to_json(data, output_file):\n",
    "    with open(output_file, 'w', encoding='utf-8') as f:\n",
    "        json.dump(data, f, ensure_ascii=False, indent=4)\n",
    "\n",
    "if __name__ == \"__main__\":\n",
    "    with open('nbest_predictions.json', 'r', encoding='utf-8') as f:\n",
    "        data = json.load(f)\n",
    "    \n",
    "    # 최고 확률의 텍스트 추출\n",
    "    best_texts = extract_best_texts(data)\n",
    "    \n",
    "    # JSON 파일로 저장\n",
    "    save_to_json(best_texts, 'best_texts.json')"
   ]
  }
 ],
 "metadata": {
  "kernelspec": {
   "display_name": "env",
   "language": "python",
   "name": "python3"
  },
  "language_info": {
   "codemirror_mode": {
    "name": "ipython",
    "version": 3
   },
   "file_extension": ".py",
   "mimetype": "text/x-python",
   "name": "python",
   "nbconvert_exporter": "python",
   "pygments_lexer": "ipython3",
   "version": "3.10.13"
  }
 },
 "nbformat": 4,
 "nbformat_minor": 2
}
