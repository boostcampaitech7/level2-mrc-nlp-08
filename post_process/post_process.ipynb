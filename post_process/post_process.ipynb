{
 "cells": [
  {
   "cell_type": "code",
   "execution_count": 18,
   "metadata": {},
   "outputs": [],
   "source": [
    "import json\n",
    "from collections import defaultdict"
   ]
  },
  {
   "cell_type": "code",
   "execution_count": 19,
   "metadata": {},
   "outputs": [],
   "source": [
    "def extract_best_texts(data):\n",
    "\n",
    "    final_results = {}\n",
    "    \n",
    "    for mrc_id, predictions in data.items():\n",
    "        text_prob_sum = defaultdict(float)\n",
    "        \n",
    "        for pred in predictions:\n",
    "            text = pred['text']\n",
    "            prob = pred['probability']\n",
    "            text_prob_sum[text] += prob\n",
    "        \n",
    "        sorted_results = sorted(\n",
    "            text_prob_sum.items(),\n",
    "            key=lambda x: x[1],\n",
    "            reverse=True\n",
    "        )\n",
    "        \n",
    "        if sorted_results:\n",
    "            # 가장 높은 확률의 텍스트와 해당 확률을 저장\n",
    "            best_text, best_prob = sorted_results[0]\n",
    "            final_results[mrc_id] = {\n",
    "                \"best_text\": best_text,\n",
    "                \"probability\": best_prob\n",
    "            }\n",
    "    \n",
    "    return final_results"
   ]
  },
  {
   "cell_type": "code",
   "execution_count": 20,
   "metadata": {},
   "outputs": [],
   "source": [
    "def save_to_json(data, output_file):\n",
    "    with open(output_file, 'w', encoding='utf-8') as f:\n",
    "        json.dump(data, f, ensure_ascii=False, indent=4)"
   ]
  },
  {
   "cell_type": "code",
   "execution_count": 46,
   "metadata": {},
   "outputs": [],
   "source": [
    "filename=\"nbest_predictions_hongjo\""
   ]
  },
  {
   "cell_type": "code",
   "execution_count": 47,
   "metadata": {},
   "outputs": [],
   "source": [
    "with open(f'nbests/{filename}.json', 'r', encoding='utf-8') as f:\n",
    "        data = json.load(f)\n",
    "    \n",
    "best_texts = extract_best_texts(data)\n",
    "\n",
    "save_to_json(best_texts, f'ensemble_source/{filename}_best_texts.json')\n"
   ]
  },
  {
   "cell_type": "code",
   "execution_count": null,
   "metadata": {},
   "outputs": [],
   "source": []
  }
 ],
 "metadata": {
  "kernelspec": {
   "display_name": ".venv_sh",
   "language": "python",
   "name": "python3"
  },
  "language_info": {
   "codemirror_mode": {
    "name": "ipython",
    "version": 3
   },
   "file_extension": ".py",
   "mimetype": "text/x-python",
   "name": "python",
   "nbconvert_exporter": "python",
   "pygments_lexer": "ipython3",
   "version": "3.10.13"
  }
 },
 "nbformat": 4,
 "nbformat_minor": 2
}
