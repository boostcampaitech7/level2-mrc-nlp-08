{
 "cells": [
  {
   "cell_type": "code",
   "execution_count": 9,
   "metadata": {},
   "outputs": [],
   "source": [
    "from datasets import load_from_disk, concatenate_datasets"
   ]
  },
  {
   "cell_type": "code",
   "execution_count": 14,
   "metadata": {},
   "outputs": [],
   "source": [
    "ai_hub_datasets = load_from_disk(\"../resources/data_aihub_train_dataset\")\n",
    "koquad_datasets = load_from_disk(\"../resources/data_kosquadv1_train_dataset_sample\")"
   ]
  },
  {
   "cell_type": "code",
   "execution_count": 15,
   "metadata": {},
   "outputs": [
    {
     "data": {
      "text/plain": [
       "DatasetDict({\n",
       "    train: Dataset({\n",
       "        features: ['id', 'document_id', 'title', 'question', 'context', 'answers'],\n",
       "        num_rows: 31637\n",
       "    })\n",
       "    validation: Dataset({\n",
       "        features: ['title', 'context', 'question', 'id', 'answers', 'document_id', '__index_level_0__'],\n",
       "        num_rows: 240\n",
       "    })\n",
       "})"
      ]
     },
     "execution_count": 15,
     "metadata": {},
     "output_type": "execute_result"
    }
   ],
   "source": [
    "ai_hub_datasets"
   ]
  },
  {
   "cell_type": "code",
   "execution_count": 42,
   "metadata": {},
   "outputs": [],
   "source": [
    "lst = []\n",
    "for x in koquad_datasets['train']:\n",
    "    lst.append([x['document_id'], x['title'], x['question'], x['context'], x['answers']])"
   ]
  },
  {
   "cell_type": "code",
   "execution_count": 43,
   "metadata": {},
   "outputs": [],
   "source": [
    "for x in ai_hub_datasets['train']:\n",
    "    lst.append([str(x['document_id']), x['title'], x['question'], x['context'], x['answers']])"
   ]
  },
  {
   "cell_type": "code",
   "execution_count": 44,
   "metadata": {},
   "outputs": [],
   "source": [
    "import pandas as pd"
   ]
  },
  {
   "cell_type": "code",
   "execution_count": 45,
   "metadata": {},
   "outputs": [],
   "source": [
    "df_train = pd.DataFrame(lst, columns = ['document_id', 'title', 'question', 'context', 'answers'])"
   ]
  },
  {
   "cell_type": "code",
   "execution_count": 47,
   "metadata": {},
   "outputs": [
    {
     "data": {
      "text/html": [
       "<div>\n",
       "<style scoped>\n",
       "    .dataframe tbody tr th:only-of-type {\n",
       "        vertical-align: middle;\n",
       "    }\n",
       "\n",
       "    .dataframe tbody tr th {\n",
       "        vertical-align: top;\n",
       "    }\n",
       "\n",
       "    .dataframe thead th {\n",
       "        text-align: right;\n",
       "    }\n",
       "</style>\n",
       "<table border=\"1\" class=\"dataframe\">\n",
       "  <thead>\n",
       "    <tr style=\"text-align: right;\">\n",
       "      <th></th>\n",
       "      <th>document_id</th>\n",
       "      <th>title</th>\n",
       "      <th>question</th>\n",
       "      <th>context</th>\n",
       "      <th>answers</th>\n",
       "    </tr>\n",
       "  </thead>\n",
       "  <tbody>\n",
       "    <tr>\n",
       "      <th>0</th>\n",
       "      <td>None</td>\n",
       "      <td>한와_선</td>\n",
       "      <td>한와 선은 오사카 덴노지에서 어디까지 가는 노선인가?</td>\n",
       "      <td>서일본 여객철도 어번 네트워크의 한 축을 구성하고 있다. 오사카 시가지 남부의 철도...</td>\n",
       "      <td>{'answer_start': [92], 'text': ['와카야마']}</td>\n",
       "    </tr>\n",
       "    <tr>\n",
       "      <th>1</th>\n",
       "      <td>None</td>\n",
       "      <td>한와_선</td>\n",
       "      <td>심한 구배 구간이 존재하는 야마나카다니역~기이 역 사이에 있는 고개는?</td>\n",
       "      <td>서일본 여객철도 어번 네트워크의 한 축을 구성하고 있다. 오사카 시가지 남부의 철도...</td>\n",
       "      <td>{'answer_start': [293], 'text': ['오노야마 고개']}</td>\n",
       "    </tr>\n",
       "    <tr>\n",
       "      <th>2</th>\n",
       "      <td>None</td>\n",
       "      <td>한와_선</td>\n",
       "      <td>한와 선이 기세이 본선과 접속하는 역은?</td>\n",
       "      <td>서일본 여객철도 어번 네트워크의 한 축을 구성하고 있다. 오사카 시가지 남부의 철도...</td>\n",
       "      <td>{'answer_start': [321], 'text': ['와카야마 역']}</td>\n",
       "    </tr>\n",
       "    <tr>\n",
       "      <th>3</th>\n",
       "      <td>None</td>\n",
       "      <td>한와_선</td>\n",
       "      <td>간사이 국제공항이 열린 해는?</td>\n",
       "      <td>서일본 여객철도 어번 네트워크의 한 축을 구성하고 있다. 오사카 시가지 남부의 철도...</td>\n",
       "      <td>{'answer_start': [400], 'text': ['1994년']}</td>\n",
       "    </tr>\n",
       "    <tr>\n",
       "      <th>4</th>\n",
       "      <td>None</td>\n",
       "      <td>한와_선</td>\n",
       "      <td>한와 선의 종착점은?</td>\n",
       "      <td>서일본 여객철도 어번 네트워크의 한 축을 구성하고 있다. 오사카 시가지 남부의 철도...</td>\n",
       "      <td>{'answer_start': [92], 'text': ['와카야마']}</td>\n",
       "    </tr>\n",
       "    <tr>\n",
       "      <th>...</th>\n",
       "      <td>...</td>\n",
       "      <td>...</td>\n",
       "      <td>...</td>\n",
       "      <td>...</td>\n",
       "      <td>...</td>\n",
       "    </tr>\n",
       "    <tr>\n",
       "      <th>51732</th>\n",
       "      <td>01101101.20210415174300001</td>\n",
       "      <td>노인 변비, 소화 문제 아니라 '신체 노쇠' 신호탄?</td>\n",
       "      <td>변비와 신체 노쇠에 대한 예방법을 말한 건 누구야</td>\n",
       "      <td>고령인에게 생기는 변비는 단순히 소화 문제를 넘어 평소에는 알아차리지 못했던 ‘신체...</td>\n",
       "      <td>{'answer_start': [98], 'text': ['정희원']}</td>\n",
       "    </tr>\n",
       "    <tr>\n",
       "      <th>51733</th>\n",
       "      <td>01101101.20210415123111001</td>\n",
       "      <td>원희룡, 김종인과 선 긋기 \"윤석열 국민의힘 안 간다? 본인도 모를 것\"</td>\n",
       "      <td>김종인의 말에 반박한 사람이 나온 라디오 프로그램의 이름은 뭐야</td>\n",
       "      <td>내년 대선 출마를 시사한 원희룡 제주지사가 최근 김종인 전 국민의힘 비상대책위원장의...</td>\n",
       "      <td>{'answer_start': [197], 'text': ['최경영의 최강시사']}</td>\n",
       "    </tr>\n",
       "    <tr>\n",
       "      <th>51734</th>\n",
       "      <td>01101101.20210415123111001</td>\n",
       "      <td>원희룡, 김종인과 선 긋기 \"윤석열 국민의힘 안 간다? 본인도 모를 것\"</td>\n",
       "      <td>어떤 라디오 프로그램에 김종인의 말에 반박한 사람이 나온 거야</td>\n",
       "      <td>내년 대선 출마를 시사한 원희룡 제주지사가 최근 김종인 전 국민의힘 비상대책위원장의...</td>\n",
       "      <td>{'answer_start': [197], 'text': ['최경영의 최강시사']}</td>\n",
       "    </tr>\n",
       "    <tr>\n",
       "      <th>51735</th>\n",
       "      <td>01101101.20210415082251001</td>\n",
       "      <td>블락비 데뷔 10주년...깜짝 생방송 출동</td>\n",
       "      <td>팬클럽 이름이 BBC인 그룹은 어디를 통해 팬들에게 10주년 소감을 전했어</td>\n",
       "      <td>그룹 블락비(Block B)가 데뷔 10주년을 맞았다.\\n지난 2011년 4월 15...</td>\n",
       "      <td>{'answer_start': [462], 'text': ['세븐시즌스']}</td>\n",
       "    </tr>\n",
       "    <tr>\n",
       "      <th>51736</th>\n",
       "      <td>01101101.20210415082251001</td>\n",
       "      <td>블락비 데뷔 10주년...깜짝 생방송 출동</td>\n",
       "      <td>팬클럽 이름이 BBC인 그룹은 어떤 걸 통해 팬들에게 10주년 소감을 전했어</td>\n",
       "      <td>그룹 블락비(Block B)가 데뷔 10주년을 맞았다.\\n지난 2011년 4월 15...</td>\n",
       "      <td>{'answer_start': [462], 'text': ['세븐시즌스']}</td>\n",
       "    </tr>\n",
       "  </tbody>\n",
       "</table>\n",
       "<p>51737 rows × 5 columns</p>\n",
       "</div>"
      ],
      "text/plain": [
       "                      document_id                                     title  \\\n",
       "0                            None                                      한와_선   \n",
       "1                            None                                      한와_선   \n",
       "2                            None                                      한와_선   \n",
       "3                            None                                      한와_선   \n",
       "4                            None                                      한와_선   \n",
       "...                           ...                                       ...   \n",
       "51732  01101101.20210415174300001             노인 변비, 소화 문제 아니라 '신체 노쇠' 신호탄?   \n",
       "51733  01101101.20210415123111001  원희룡, 김종인과 선 긋기 \"윤석열 국민의힘 안 간다? 본인도 모를 것\"   \n",
       "51734  01101101.20210415123111001  원희룡, 김종인과 선 긋기 \"윤석열 국민의힘 안 간다? 본인도 모를 것\"   \n",
       "51735  01101101.20210415082251001                   블락비 데뷔 10주년...깜짝 생방송 출동   \n",
       "51736  01101101.20210415082251001                   블락비 데뷔 10주년...깜짝 생방송 출동   \n",
       "\n",
       "                                         question  \\\n",
       "0                   한와 선은 오사카 덴노지에서 어디까지 가는 노선인가?   \n",
       "1         심한 구배 구간이 존재하는 야마나카다니역~기이 역 사이에 있는 고개는?   \n",
       "2                          한와 선이 기세이 본선과 접속하는 역은?   \n",
       "3                                간사이 국제공항이 열린 해는?   \n",
       "4                                     한와 선의 종착점은?   \n",
       "...                                           ...   \n",
       "51732                 변비와 신체 노쇠에 대한 예방법을 말한 건 누구야   \n",
       "51733         김종인의 말에 반박한 사람이 나온 라디오 프로그램의 이름은 뭐야   \n",
       "51734          어떤 라디오 프로그램에 김종인의 말에 반박한 사람이 나온 거야   \n",
       "51735   팬클럽 이름이 BBC인 그룹은 어디를 통해 팬들에게 10주년 소감을 전했어   \n",
       "51736  팬클럽 이름이 BBC인 그룹은 어떤 걸 통해 팬들에게 10주년 소감을 전했어   \n",
       "\n",
       "                                                 context  \\\n",
       "0      서일본 여객철도 어번 네트워크의 한 축을 구성하고 있다. 오사카 시가지 남부의 철도...   \n",
       "1      서일본 여객철도 어번 네트워크의 한 축을 구성하고 있다. 오사카 시가지 남부의 철도...   \n",
       "2      서일본 여객철도 어번 네트워크의 한 축을 구성하고 있다. 오사카 시가지 남부의 철도...   \n",
       "3      서일본 여객철도 어번 네트워크의 한 축을 구성하고 있다. 오사카 시가지 남부의 철도...   \n",
       "4      서일본 여객철도 어번 네트워크의 한 축을 구성하고 있다. 오사카 시가지 남부의 철도...   \n",
       "...                                                  ...   \n",
       "51732  고령인에게 생기는 변비는 단순히 소화 문제를 넘어 평소에는 알아차리지 못했던 ‘신체...   \n",
       "51733  내년 대선 출마를 시사한 원희룡 제주지사가 최근 김종인 전 국민의힘 비상대책위원장의...   \n",
       "51734  내년 대선 출마를 시사한 원희룡 제주지사가 최근 김종인 전 국민의힘 비상대책위원장의...   \n",
       "51735  그룹 블락비(Block B)가 데뷔 10주년을 맞았다.\\n지난 2011년 4월 15...   \n",
       "51736  그룹 블락비(Block B)가 데뷔 10주년을 맞았다.\\n지난 2011년 4월 15...   \n",
       "\n",
       "                                              answers  \n",
       "0            {'answer_start': [92], 'text': ['와카야마']}  \n",
       "1        {'answer_start': [293], 'text': ['오노야마 고개']}  \n",
       "2         {'answer_start': [321], 'text': ['와카야마 역']}  \n",
       "3          {'answer_start': [400], 'text': ['1994년']}  \n",
       "4            {'answer_start': [92], 'text': ['와카야마']}  \n",
       "...                                               ...  \n",
       "51732         {'answer_start': [98], 'text': ['정희원']}  \n",
       "51733  {'answer_start': [197], 'text': ['최경영의 최강시사']}  \n",
       "51734  {'answer_start': [197], 'text': ['최경영의 최강시사']}  \n",
       "51735      {'answer_start': [462], 'text': ['세븐시즌스']}  \n",
       "51736      {'answer_start': [462], 'text': ['세븐시즌스']}  \n",
       "\n",
       "[51737 rows x 5 columns]"
      ]
     },
     "execution_count": 47,
     "metadata": {},
     "output_type": "execute_result"
    }
   ],
   "source": [
    "df_train"
   ]
  },
  {
   "cell_type": "code",
   "execution_count": 48,
   "metadata": {},
   "outputs": [],
   "source": [
    "from datasets import Dataset\n",
    "from datasets import DatasetDict"
   ]
  },
  {
   "cell_type": "code",
   "execution_count": 49,
   "metadata": {},
   "outputs": [],
   "source": [
    "train_dataset = Dataset.from_pandas(df_train, preserve_index=False)"
   ]
  },
  {
   "cell_type": "code",
   "execution_count": 50,
   "metadata": {},
   "outputs": [],
   "source": [
    "validation_dataset = ai_hub_datasets['validation']"
   ]
  },
  {
   "cell_type": "code",
   "execution_count": 51,
   "metadata": {},
   "outputs": [
    {
     "name": "stdout",
     "output_type": "stream",
     "text": [
      "DatasetDict({\n",
      "    train: Dataset({\n",
      "        features: ['document_id', 'title', 'question', 'context', 'answers'],\n",
      "        num_rows: 51737\n",
      "    })\n",
      "    validation: Dataset({\n",
      "        features: ['title', 'context', 'question', 'id', 'answers', 'document_id', '__index_level_0__'],\n",
      "        num_rows: 240\n",
      "    })\n",
      "})\n"
     ]
    }
   ],
   "source": [
    "dataset_dict = DatasetDict({\n",
    "    'train': train_dataset,\n",
    "    'validation': validation_dataset\n",
    "})\n",
    "\n",
    "print(dataset_dict)"
   ]
  },
  {
   "cell_type": "code",
   "execution_count": 52,
   "metadata": {},
   "outputs": [
    {
     "name": "stderr",
     "output_type": "stream",
     "text": [
      "Saving the dataset (1/1 shards): 100%|██████████| 51737/51737 [00:00<00:00, 156309.71 examples/s]\n",
      "Saving the dataset (1/1 shards): 100%|██████████| 240/240 [00:00<00:00, 21933.39 examples/s]\n"
     ]
    }
   ],
   "source": [
    "dataset_dict.save_to_disk('../resources/data_open_train_dataset')"
   ]
  },
  {
   "cell_type": "code",
   "execution_count": null,
   "metadata": {},
   "outputs": [],
   "source": []
  }
 ],
 "metadata": {
  "kernelspec": {
   "display_name": ".venv_sh",
   "language": "python",
   "name": "python3"
  },
  "language_info": {
   "codemirror_mode": {
    "name": "ipython",
    "version": 3
   },
   "file_extension": ".py",
   "mimetype": "text/x-python",
   "name": "python",
   "nbconvert_exporter": "python",
   "pygments_lexer": "ipython3",
   "version": "3.10.13"
  }
 },
 "nbformat": 4,
 "nbformat_minor": 2
}
