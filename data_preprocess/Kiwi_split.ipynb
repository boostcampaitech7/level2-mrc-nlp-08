{
 "cells": [
  {
   "cell_type": "markdown",
   "id": "981ef929-3968-4488-9a6e-e94c66b65a72",
   "metadata": {},
   "source": [
    "# Sentence Distribution"
   ]
  },
  {
   "cell_type": "code",
   "execution_count": 1,
   "id": "aeaf92e9-d69f-43fa-ada8-3a9787be73f3",
   "metadata": {},
   "outputs": [],
   "source": [
    "import pandas as pd\n",
    "from tqdm import tqdm\n"
   ]
  },
  {
   "cell_type": "code",
   "execution_count": 2,
   "id": "0a9c5ec3-3f57-48e1-8444-142ed8f479bf",
   "metadata": {},
   "outputs": [],
   "source": [
    "from kiwipiepy import Kiwi\n",
    "kiwi=Kiwi()\n",
    "\n",
    "def split_sentences(text):\n",
    "    sentences = kiwi.split_into_sents(text)\n",
    "    return [sentence[0] for sentence in sentences]\n",
    "\n",
    "def create_split_df(input_df,split_target_col,df_name):\n",
    "    split_data=[]\n",
    "    for idx,row in tqdm(input_df.iterrows(),desc=f'{df_name}_splitting',total=len(input_df)):\n",
    "        sentences=split_sentences(row[f'{split_target_col}'])\n",
    "        for sentence in sentences:\n",
    "            split_data.append({'split_context':sentence,'document_id':row['document_id']})\n",
    "    split_df=pd.DataFrame(split_data)\n",
    "    return split_df"
   ]
  },
  {
   "cell_type": "code",
   "execution_count": 3,
   "id": "68c9344f-c600-4aa2-9e8e-2c6804ea621f",
   "metadata": {},
   "outputs": [],
   "source": [
    "corpus_df=pd.read_csv(\"nv/dataset/remove_HTML&annots_correctspace.csv\")"
   ]
  },
  {
   "cell_type": "code",
   "execution_count": 5,
   "id": "036fc550-7958-4f66-b25c-b323a3debc66",
   "metadata": {},
   "outputs": [],
   "source": [
    "corpus_df.dropna(subset='text',inplace=True)"
   ]
  },
  {
   "cell_type": "code",
   "execution_count": 7,
   "id": "311dfd65-fcf2-41c3-8f3a-dc154ae6b6cf",
   "metadata": {},
   "outputs": [],
   "source": [
    "corpus_df=corpus_df.reset_index(drop=True)"
   ]
  },
  {
   "cell_type": "code",
   "execution_count": 10,
   "id": "289e9471-1f85-4fff-8a2e-272094622b71",
   "metadata": {},
   "outputs": [
    {
     "name": "stderr",
     "output_type": "stream",
     "text": [
      "corpus_df_splitting: 100%|██████████████████████████████████████████████████████| 56682/56682 [07:40<00:00, 123.17it/s]\n"
     ]
    }
   ],
   "source": [
    "corpus_split_df=create_split_df(corpus_df,'text','corpus_df')"
   ]
  },
  {
   "cell_type": "code",
   "execution_count": 11,
   "id": "dd7b65ac-6859-403f-9ddd-39e81d02c6db",
   "metadata": {},
   "outputs": [],
   "source": [
    "corpus_split_df.to_csv(\"removed_corpus_split_sentence.csv\")"
   ]
  },
  {
   "cell_type": "code",
   "execution_count": 35,
   "id": "14ac7596-f7bf-44e4-aac1-0655d90731e8",
   "metadata": {},
   "outputs": [],
   "source": [
    "corpus_split_df.to_parquet(\"removed_corpus_split_sentence.parquet\")"
   ]
  },
  {
   "cell_type": "code",
   "execution_count": null,
   "id": "d549fe2c-9462-4997-b94e-0c0c3379a131",
   "metadata": {},
   "outputs": [],
   "source": []
  }
 ],
 "metadata": {
  "kernelspec": {
   "display_name": "'klue_fine'",
   "language": "python",
   "name": ".venv"
  },
  "language_info": {
   "codemirror_mode": {
    "name": "ipython",
    "version": 3
   },
   "file_extension": ".py",
   "mimetype": "text/x-python",
   "name": "python",
   "nbconvert_exporter": "python",
   "pygments_lexer": "ipython3",
   "version": "3.12.4"
  }
 },
 "nbformat": 4,
 "nbformat_minor": 5
}
