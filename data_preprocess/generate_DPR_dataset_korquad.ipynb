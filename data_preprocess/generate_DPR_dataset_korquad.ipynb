{
 "cells": [
  {
   "cell_type": "code",
   "execution_count": 2,
   "metadata": {},
   "outputs": [
    {
     "name": "stderr",
     "output_type": "stream",
     "text": [
      "/data/ephemeral/home/sh/level2-mrc-nlp-08/.venv_sh/lib/python3.10/site-packages/tqdm/auto.py:21: TqdmWarning: IProgress not found. Please update jupyter and ipywidgets. See https://ipywidgets.readthedocs.io/en/stable/user_install.html\n",
      "  from .autonotebook import tqdm as notebook_tqdm\n"
     ]
    }
   ],
   "source": [
    "import json\n",
    "import pandas as pd\n",
    "from tqdm import tqdm\n",
    "import nltk\n",
    "# nltk.download(\"all\")\n",
    "\n",
    "from nltk import sent_tokenize\n",
    "from rank_bm25 import BM25Okapi\n",
    "from datasets import load_dataset, load_from_disk\n",
    "from transformers import AutoTokenizer"
   ]
  },
  {
   "cell_type": "markdown",
   "metadata": {},
   "source": [
    "# Load Dataset\n",
    "- KorQuad v1 데이터셋 로드\n",
    "- 원본 데이터도 불러와 학습 데이터에 추가"
   ]
  },
  {
   "cell_type": "code",
   "execution_count": 3,
   "metadata": {},
   "outputs": [],
   "source": [
    "dataset = load_dataset('KorQuAD/squad_kor_v1')\n",
    "dataset_raw = load_from_disk(\"../resources/data/train_dataset\")"
   ]
  },
  {
   "cell_type": "code",
   "execution_count": 4,
   "metadata": {},
   "outputs": [
    {
     "data": {
      "text/plain": [
       "DatasetDict({\n",
       "    train: Dataset({\n",
       "        features: ['id', 'title', 'context', 'question', 'answers'],\n",
       "        num_rows: 60407\n",
       "    })\n",
       "    validation: Dataset({\n",
       "        features: ['id', 'title', 'context', 'question', 'answers'],\n",
       "        num_rows: 5774\n",
       "    })\n",
       "})"
      ]
     },
     "execution_count": 4,
     "metadata": {},
     "output_type": "execute_result"
    }
   ],
   "source": [
    "dataset"
   ]
  },
  {
   "cell_type": "code",
   "execution_count": 5,
   "metadata": {},
   "outputs": [
    {
     "data": {
      "text/plain": [
       "{'id': '6566495-0-0',\n",
       " 'title': '파우스트_서곡',\n",
       " 'context': '1839년 바그너는 괴테의 파우스트을 처음 읽고 그 내용에 마음이 끌려 이를 소재로 해서 하나의 교향곡을 쓰려는 뜻을 갖는다. 이 시기 바그너는 1838년에 빛 독촉으로 산전수전을 다 걲은 상황이라 좌절과 실망에 가득했으며 메피스토펠레스를 만나는 파우스트의 심경에 공감했다고 한다. 또한 파리에서 아브네크의 지휘로 파리 음악원 관현악단이 연주하는 베토벤의 교향곡 9번을 듣고 깊은 감명을 받았는데, 이것이 이듬해 1월에 파우스트의 서곡으로 쓰여진 이 작품에 조금이라도 영향을 끼쳤으리라는 것은 의심할 여지가 없다. 여기의 라단조 조성의 경우에도 그의 전기에 적혀 있는 것처럼 단순한 정신적 피로나 실의가 반영된 것이 아니라 베토벤의 합창교향곡 조성의 영향을 받은 것을 볼 수 있다. 그렇게 교향곡 작곡을 1839년부터 40년에 걸쳐 파리에서 착수했으나 1악장을 쓴 뒤에 중단했다. 또한 작품의 완성과 동시에 그는 이 서곡(1악장)을 파리 음악원의 연주회에서 연주할 파트보까지 준비하였으나, 실제로는 이루어지지는 않았다. 결국 초연은 4년 반이 지난 후에 드레스덴에서 연주되었고 재연도 이루어졌지만, 이후에 그대로 방치되고 말았다. 그 사이에 그는 리엔치와 방황하는 네덜란드인을 완성하고 탄호이저에도 착수하는 등 분주한 시간을 보냈는데, 그런 바쁜 생활이 이 곡을 잊게 한 것이 아닌가 하는 의견도 있다.',\n",
       " 'question': '바그너는 괴테의 파우스트를 읽고 무엇을 쓰고자 했는가?',\n",
       " 'answers': {'text': ['교향곡'], 'answer_start': [54]}}"
      ]
     },
     "execution_count": 5,
     "metadata": {},
     "output_type": "execute_result"
    }
   ],
   "source": [
    "dataset['train'][0]"
   ]
  },
  {
   "cell_type": "code",
   "execution_count": 6,
   "metadata": {},
   "outputs": [
    {
     "data": {
      "text/plain": [
       "DatasetDict({\n",
       "    train: Dataset({\n",
       "        features: ['title', 'context', 'question', 'id', 'answers', 'document_id', '__index_level_0__'],\n",
       "        num_rows: 3952\n",
       "    })\n",
       "    validation: Dataset({\n",
       "        features: ['title', 'context', 'question', 'id', 'answers', 'document_id', '__index_level_0__'],\n",
       "        num_rows: 240\n",
       "    })\n",
       "})"
      ]
     },
     "execution_count": 6,
     "metadata": {},
     "output_type": "execute_result"
    }
   ],
   "source": [
    "dataset_raw"
   ]
  },
  {
   "cell_type": "code",
   "execution_count": 7,
   "metadata": {},
   "outputs": [
    {
     "data": {
      "text/plain": [
       "{'title': '미국 상원',\n",
       " 'context': '미국 상의원 또는 미국 상원(United States Senate)은 양원제인 미국 의회의 상원이다.\\\\n\\\\n미국 부통령이 상원의장이 된다. 각 주당 2명의 상원의원이 선출되어 100명의 상원의원으로 구성되어 있다. 임기는 6년이며, 2년마다 50개주 중 1/3씩 상원의원을 새로 선출하여 연방에 보낸다.\\\\n\\\\n미국 상원은 미국 하원과는 다르게 미국 대통령을 수반으로 하는 미국 연방 행정부에 각종 동의를 하는 기관이다. 하원이 세금과 경제에 대한 권한, 대통령을 포함한 대다수의 공무원을 파면할 권한을 갖고 있는 국민을 대표하는 기관인 반면 상원은 미국의 주를 대표한다. 즉 캘리포니아주, 일리노이주 같이 주 정부와 주 의회를 대표하는 기관이다. 그로 인하여 군대의 파병, 관료의 임명에 대한 동의, 외국 조약에 대한 승인 등 신속을 요하는 권한은 모두 상원에게만 있다. 그리고 하원에 대한 견제 역할(하원의 법안을 거부할 권한 등)을 담당한다. 2년의 임기로 인하여 급진적일 수밖에 없는 하원은 지나치게 급진적인 법안을 만들기 쉽다. 대표적인 예로 건강보험 개혁 당시 하원이 미국 연방 행정부에게 퍼블릭 옵션(공공건강보험기관)의 조항이 있는 반면 상원의 경우 하원안이 지나치게 세금이 많이 든다는 이유로 퍼블릭 옵션 조항을 제외하고 비영리건강보험기관이나 보험회사가 담당하도록 한 것이다. 이 경우처럼 상원은 하원이나 내각책임제가 빠지기 쉬운 국가들의 국회처럼 걸핏하면 발생하는 의회의 비정상적인 사태를 방지하는 기관이다. 상원은 급박한 처리사항의 경우가 아니면 법안을 먼저 내는 경우가 드물고 하원이 만든 법안을 수정하여 다시 하원에 되돌려보낸다. 이러한 방식으로 단원제가 빠지기 쉬운 함정을 미리 방지하는 것이다.날짜=2017-02-05',\n",
       " 'question': '대통령을 포함한 미국의 행정부 견제권을 갖는 국가 기관은?',\n",
       " 'id': 'mrc-1-000067',\n",
       " 'answers': {'answer_start': [235], 'text': ['하원']},\n",
       " 'document_id': 18293,\n",
       " '__index_level_0__': 42}"
      ]
     },
     "execution_count": 7,
     "metadata": {},
     "output_type": "execute_result"
    }
   ],
   "source": [
    "dataset_raw['train'][0]"
   ]
  },
  {
   "cell_type": "markdown",
   "metadata": {},
   "source": [
    "# Chunk Contexts\n",
    "- nltk의 sent_tokenize를 이용해서 contect를 chunk 단위로 분할\n",
    "- langchain의 text_splitter와 비교 필요"
   ]
  },
  {
   "cell_type": "code",
   "execution_count": 8,
   "metadata": {},
   "outputs": [],
   "source": [
    "def chunk_context(context, num_sents, overlaps):\n",
    "    \"\"\"\n",
    "    Arguments:\n",
    "        context\n",
    "        num_sents: 한 chunk 당 문장의 수\n",
    "        context_path: 연속된 chunk 간 겹치는 문장의 수\n",
    "    \"\"\"\n",
    "    chunks = []\n",
    "    start, end = 0, num_sents\n",
    "    \n",
    "    total_sents = sent_tokenize(context)\n",
    "\n",
    "    while start < len(total_sents):\n",
    "        chunk = total_sents[start:end]\n",
    "        chunks.append(' '.join(chunk))\n",
    "        \n",
    "        start += (num_sents - overlaps)\n",
    "        end = start + num_sents\n",
    "\n",
    "    return chunks"
   ]
  },
  {
   "cell_type": "code",
   "execution_count": 9,
   "metadata": {},
   "outputs": [
    {
     "data": {
      "text/plain": [
       "['1839년 바그너는 괴테의 파우스트을 처음 읽고 그 내용에 마음이 끌려 이를 소재로 해서 하나의 교향곡을 쓰려는 뜻을 갖는다. 이 시기 바그너는 1838년에 빛 독촉으로 산전수전을 다 걲은 상황이라 좌절과 실망에 가득했으며 메피스토펠레스를 만나는 파우스트의 심경에 공감했다고 한다. 또한 파리에서 아브네크의 지휘로 파리 음악원 관현악단이 연주하는 베토벤의 교향곡 9번을 듣고 깊은 감명을 받았는데, 이것이 이듬해 1월에 파우스트의 서곡으로 쓰여진 이 작품에 조금이라도 영향을 끼쳤으리라는 것은 의심할 여지가 없다.',\n",
       " '또한 파리에서 아브네크의 지휘로 파리 음악원 관현악단이 연주하는 베토벤의 교향곡 9번을 듣고 깊은 감명을 받았는데, 이것이 이듬해 1월에 파우스트의 서곡으로 쓰여진 이 작품에 조금이라도 영향을 끼쳤으리라는 것은 의심할 여지가 없다. 여기의 라단조 조성의 경우에도 그의 전기에 적혀 있는 것처럼 단순한 정신적 피로나 실의가 반영된 것이 아니라 베토벤의 합창교향곡 조성의 영향을 받은 것을 볼 수 있다. 그렇게 교향곡 작곡을 1839년부터 40년에 걸쳐 파리에서 착수했으나 1악장을 쓴 뒤에 중단했다.',\n",
       " '그렇게 교향곡 작곡을 1839년부터 40년에 걸쳐 파리에서 착수했으나 1악장을 쓴 뒤에 중단했다. 또한 작품의 완성과 동시에 그는 이 서곡(1악장)을 파리 음악원의 연주회에서 연주할 파트보까지 준비하였으나, 실제로는 이루어지지는 않았다. 결국 초연은 4년 반이 지난 후에 드레스덴에서 연주되었고 재연도 이루어졌지만, 이후에 그대로 방치되고 말았다.',\n",
       " '결국 초연은 4년 반이 지난 후에 드레스덴에서 연주되었고 재연도 이루어졌지만, 이후에 그대로 방치되고 말았다. 그 사이에 그는 리엔치와 방황하는 네덜란드인을 완성하고 탄호이저에도 착수하는 등 분주한 시간을 보냈는데, 그런 바쁜 생활이 이 곡을 잊게 한 것이 아닌가 하는 의견도 있다.']"
      ]
     },
     "execution_count": 9,
     "metadata": {},
     "output_type": "execute_result"
    }
   ],
   "source": [
    "sample_ctx = dataset['train'][0]['context']\n",
    "\n",
    "chunks = chunk_context(sample_ctx, 3, 1)\n",
    "chunks"
   ]
  },
  {
   "cell_type": "markdown",
   "metadata": {},
   "source": [
    "# Training Templates\n",
    "- DPR 모델 학습을 위한 템플릿\n",
    "- TEMPATE_ALL 의 positive 키의 리스트에 TEMPLATE_TEXT가 요소로 들어감"
   ]
  },
  {
   "cell_type": "code",
   "execution_count": 10,
   "metadata": {},
   "outputs": [],
   "source": [
    "TEMPLATE_ALL = {\n",
    "    \"question\": \"\",\n",
    "\t\"answers\": [],\n",
    "\t\"positive\": [],\n",
    "  }\n",
    "\n",
    "TEMPLATE_TEXT = {\n",
    "    \"title\": \"\",\n",
    "    \"text\": \"\",\n",
    "}"
   ]
  },
  {
   "cell_type": "markdown",
   "metadata": {},
   "source": [
    "- fill_templates 함수는 여러 개의 chunk 중 단답형 정답을 포함하는 chunk만 템플릿 구성\n",
    "- 제목(title)이 없으면 그대로 \"\" 로 두면 됨"
   ]
  },
  {
   "cell_type": "code",
   "execution_count": 11,
   "metadata": {},
   "outputs": [],
   "source": [
    "def fill_templates(chunks, title, question, answer):\n",
    "    positives = []\n",
    "    for chunk in chunks:\n",
    "        template_instance1 = TEMPLATE_TEXT.copy()\n",
    "        template_instance1['title'] = title\n",
    "        template_instance1['text'] = chunk\n",
    "    \n",
    "        if answer in chunk:\n",
    "            positives.append(template_instance1.copy())\n",
    "\n",
    "    template_instance2 = TEMPLATE_ALL.copy()\n",
    "    template_instance2['question'] = question\n",
    "    template_instance2['answers'] = [answer]\n",
    "    template_instance2['positive'] = positives\n",
    "    \n",
    "    return template_instance2"
   ]
  },
  {
   "cell_type": "code",
   "execution_count": 12,
   "metadata": {},
   "outputs": [
    {
     "data": {
      "text/plain": [
       "'교향곡'"
      ]
     },
     "execution_count": 12,
     "metadata": {},
     "output_type": "execute_result"
    }
   ],
   "source": [
    "dataset['train'][0]['answers']['text'][0]"
   ]
  },
  {
   "cell_type": "code",
   "execution_count": 13,
   "metadata": {},
   "outputs": [
    {
     "data": {
      "text/plain": [
       "{'question': '바그너는 괴테의 파우스트를 읽고 무엇을 쓰고자 했는가?',\n",
       " 'answers': ['교향곡'],\n",
       " 'positive': [{'title': '파우스트_서곡',\n",
       "   'text': '1839년 바그너는 괴테의 파우스트을 처음 읽고 그 내용에 마음이 끌려 이를 소재로 해서 하나의 교향곡을 쓰려는 뜻을 갖는다. 이 시기 바그너는 1838년에 빛 독촉으로 산전수전을 다 걲은 상황이라 좌절과 실망에 가득했으며 메피스토펠레스를 만나는 파우스트의 심경에 공감했다고 한다. 또한 파리에서 아브네크의 지휘로 파리 음악원 관현악단이 연주하는 베토벤의 교향곡 9번을 듣고 깊은 감명을 받았는데, 이것이 이듬해 1월에 파우스트의 서곡으로 쓰여진 이 작품에 조금이라도 영향을 끼쳤으리라는 것은 의심할 여지가 없다.'},\n",
       "  {'title': '파우스트_서곡',\n",
       "   'text': '또한 파리에서 아브네크의 지휘로 파리 음악원 관현악단이 연주하는 베토벤의 교향곡 9번을 듣고 깊은 감명을 받았는데, 이것이 이듬해 1월에 파우스트의 서곡으로 쓰여진 이 작품에 조금이라도 영향을 끼쳤으리라는 것은 의심할 여지가 없다. 여기의 라단조 조성의 경우에도 그의 전기에 적혀 있는 것처럼 단순한 정신적 피로나 실의가 반영된 것이 아니라 베토벤의 합창교향곡 조성의 영향을 받은 것을 볼 수 있다. 그렇게 교향곡 작곡을 1839년부터 40년에 걸쳐 파리에서 착수했으나 1악장을 쓴 뒤에 중단했다.'},\n",
       "  {'title': '파우스트_서곡',\n",
       "   'text': '그렇게 교향곡 작곡을 1839년부터 40년에 걸쳐 파리에서 착수했으나 1악장을 쓴 뒤에 중단했다. 또한 작품의 완성과 동시에 그는 이 서곡(1악장)을 파리 음악원의 연주회에서 연주할 파트보까지 준비하였으나, 실제로는 이루어지지는 않았다. 결국 초연은 4년 반이 지난 후에 드레스덴에서 연주되었고 재연도 이루어졌지만, 이후에 그대로 방치되고 말았다.'}]}"
      ]
     },
     "execution_count": 13,
     "metadata": {},
     "output_type": "execute_result"
    }
   ],
   "source": [
    "fill_templates(chunks, \n",
    "               dataset['train'][0]['title'], \n",
    "               dataset['train'][0]['question'], \n",
    "               dataset['train'][0]['answers']['text'][0])"
   ]
  },
  {
   "cell_type": "markdown",
   "metadata": {},
   "source": [
    "# DPR 학습 데이터 생성"
   ]
  },
  {
   "cell_type": "code",
   "execution_count": 14,
   "metadata": {},
   "outputs": [],
   "source": [
    "def construct_dpr_dataset(dataset, num_sents, overlaps):\n",
    "    dpr_dataset = []\n",
    "    for idx in tqdm(range(len(dataset))):\n",
    "        sample = dataset[idx]\n",
    "        \n",
    "        title = sample['title']\n",
    "        question = sample['question']\n",
    "        answer = sample['answers']['text'][0]\n",
    "        chunks = chunk_context(sample['context'], num_sents, overlaps)\n",
    "        \n",
    "        output = fill_templates(chunks, title, question, answer)\n",
    "        dpr_dataset.append(output)\n",
    "    \n",
    "    return dpr_dataset"
   ]
  },
  {
   "cell_type": "code",
   "execution_count": 14,
   "metadata": {},
   "outputs": [
    {
     "name": "stderr",
     "output_type": "stream",
     "text": [
      "100%|██████████| 60407/60407 [00:18<00:00, 3210.16it/s]\n"
     ]
    }
   ],
   "source": [
    "dpr_korquad_dataset = construct_dpr_dataset(dataset['train'], 3, 1)"
   ]
  },
  {
   "cell_type": "code",
   "execution_count": 15,
   "metadata": {},
   "outputs": [
    {
     "data": {
      "text/plain": [
       "{'question': '바그너는 괴테의 파우스트를 읽고 무엇을 쓰고자 했는가?',\n",
       " 'answers': ['교향곡'],\n",
       " 'positive': [{'title': '파우스트_서곡',\n",
       "   'text': '1839년 바그너는 괴테의 파우스트을 처음 읽고 그 내용에 마음이 끌려 이를 소재로 해서 하나의 교향곡을 쓰려는 뜻을 갖는다. 이 시기 바그너는 1838년에 빛 독촉으로 산전수전을 다 걲은 상황이라 좌절과 실망에 가득했으며 메피스토펠레스를 만나는 파우스트의 심경에 공감했다고 한다. 또한 파리에서 아브네크의 지휘로 파리 음악원 관현악단이 연주하는 베토벤의 교향곡 9번을 듣고 깊은 감명을 받았는데, 이것이 이듬해 1월에 파우스트의 서곡으로 쓰여진 이 작품에 조금이라도 영향을 끼쳤으리라는 것은 의심할 여지가 없다.'},\n",
       "  {'title': '파우스트_서곡',\n",
       "   'text': '또한 파리에서 아브네크의 지휘로 파리 음악원 관현악단이 연주하는 베토벤의 교향곡 9번을 듣고 깊은 감명을 받았는데, 이것이 이듬해 1월에 파우스트의 서곡으로 쓰여진 이 작품에 조금이라도 영향을 끼쳤으리라는 것은 의심할 여지가 없다. 여기의 라단조 조성의 경우에도 그의 전기에 적혀 있는 것처럼 단순한 정신적 피로나 실의가 반영된 것이 아니라 베토벤의 합창교향곡 조성의 영향을 받은 것을 볼 수 있다. 그렇게 교향곡 작곡을 1839년부터 40년에 걸쳐 파리에서 착수했으나 1악장을 쓴 뒤에 중단했다.'},\n",
       "  {'title': '파우스트_서곡',\n",
       "   'text': '그렇게 교향곡 작곡을 1839년부터 40년에 걸쳐 파리에서 착수했으나 1악장을 쓴 뒤에 중단했다. 또한 작품의 완성과 동시에 그는 이 서곡(1악장)을 파리 음악원의 연주회에서 연주할 파트보까지 준비하였으나, 실제로는 이루어지지는 않았다. 결국 초연은 4년 반이 지난 후에 드레스덴에서 연주되었고 재연도 이루어졌지만, 이후에 그대로 방치되고 말았다.'}]}"
      ]
     },
     "execution_count": 15,
     "metadata": {},
     "output_type": "execute_result"
    }
   ],
   "source": [
    "dpr_korquad_dataset[0]"
   ]
  },
  {
   "cell_type": "code",
   "execution_count": 15,
   "metadata": {},
   "outputs": [
    {
     "name": "stderr",
     "output_type": "stream",
     "text": [
      "  0%|          | 0/3952 [00:00<?, ?it/s]"
     ]
    },
    {
     "name": "stderr",
     "output_type": "stream",
     "text": [
      "100%|██████████| 3952/3952 [00:02<00:00, 1323.14it/s]\n"
     ]
    }
   ],
   "source": [
    "dpr_raw_dataset = construct_dpr_dataset(dataset_raw['train'], 3, 1)"
   ]
  },
  {
   "cell_type": "code",
   "execution_count": 17,
   "metadata": {},
   "outputs": [
    {
     "data": {
      "text/plain": [
       "{'question': '대통령을 포함한 미국의 행정부 견제권을 갖는 국가 기관은?',\n",
       " 'answers': ['하원'],\n",
       " 'positive': [{'title': '미국 상원',\n",
       "   'text': '미국 상의원 또는 미국 상원(United States Senate)은 양원제인 미국 의회의 상원이다.\\\\n\\\\n미국 부통령이 상원의장이 된다. 각 주당 2명의 상원의원이 선출되어 100명의 상원의원으로 구성되어 있다. 임기는 6년이며, 2년마다 50개주 중 1/3씩 상원의원을 새로 선출하여 연방에 보낸다.\\\\n\\\\n미국 상원은 미국 하원과는 다르게 미국 대통령을 수반으로 하는 미국 연방 행정부에 각종 동의를 하는 기관이다.'},\n",
       "  {'title': '미국 상원',\n",
       "   'text': '임기는 6년이며, 2년마다 50개주 중 1/3씩 상원의원을 새로 선출하여 연방에 보낸다.\\\\n\\\\n미국 상원은 미국 하원과는 다르게 미국 대통령을 수반으로 하는 미국 연방 행정부에 각종 동의를 하는 기관이다. 하원이 세금과 경제에 대한 권한, 대통령을 포함한 대다수의 공무원을 파면할 권한을 갖고 있는 국민을 대표하는 기관인 반면 상원은 미국의 주를 대표한다. 즉 캘리포니아주, 일리노이주 같이 주 정부와 주 의회를 대표하는 기관이다.'},\n",
       "  {'title': '미국 상원',\n",
       "   'text': '즉 캘리포니아주, 일리노이주 같이 주 정부와 주 의회를 대표하는 기관이다. 그로 인하여 군대의 파병, 관료의 임명에 대한 동의, 외국 조약에 대한 승인 등 신속을 요하는 권한은 모두 상원에게만 있다. 그리고 하원에 대한 견제 역할(하원의 법안을 거부할 권한 등)을 담당한다.'},\n",
       "  {'title': '미국 상원',\n",
       "   'text': '그리고 하원에 대한 견제 역할(하원의 법안을 거부할 권한 등)을 담당한다. 2년의 임기로 인하여 급진적일 수밖에 없는 하원은 지나치게 급진적인 법안을 만들기 쉽다. 대표적인 예로 건강보험 개혁 당시 하원이 미국 연방 행정부에게 퍼블릭 옵션(공공건강보험기관)의 조항이 있는 반면 상원의 경우 하원안이 지나치게 세금이 많이 든다는 이유로 퍼블릭 옵션 조항을 제외하고 비영리건강보험기관이나 보험회사가 담당하도록 한 것이다.'},\n",
       "  {'title': '미국 상원',\n",
       "   'text': '대표적인 예로 건강보험 개혁 당시 하원이 미국 연방 행정부에게 퍼블릭 옵션(공공건강보험기관)의 조항이 있는 반면 상원의 경우 하원안이 지나치게 세금이 많이 든다는 이유로 퍼블릭 옵션 조항을 제외하고 비영리건강보험기관이나 보험회사가 담당하도록 한 것이다. 이 경우처럼 상원은 하원이나 내각책임제가 빠지기 쉬운 국가들의 국회처럼 걸핏하면 발생하는 의회의 비정상적인 사태를 방지하는 기관이다. 상원은 급박한 처리사항의 경우가 아니면 법안을 먼저 내는 경우가 드물고 하원이 만든 법안을 수정하여 다시 하원에 되돌려보낸다.'},\n",
       "  {'title': '미국 상원',\n",
       "   'text': '상원은 급박한 처리사항의 경우가 아니면 법안을 먼저 내는 경우가 드물고 하원이 만든 법안을 수정하여 다시 하원에 되돌려보낸다. 이러한 방식으로 단원제가 빠지기 쉬운 함정을 미리 방지하는 것이다.날짜=2017-02-05'}]}"
      ]
     },
     "execution_count": 17,
     "metadata": {},
     "output_type": "execute_result"
    }
   ],
   "source": [
    "dpr_raw_dataset[0]"
   ]
  },
  {
   "cell_type": "code",
   "execution_count": 18,
   "metadata": {},
   "outputs": [],
   "source": [
    "dpr_dataset = dpr_korquad_dataset + dpr_raw_dataset"
   ]
  },
  {
   "cell_type": "code",
   "execution_count": 19,
   "metadata": {},
   "outputs": [
    {
     "data": {
      "text/plain": [
       "64359"
      ]
     },
     "execution_count": 19,
     "metadata": {},
     "output_type": "execute_result"
    }
   ],
   "source": [
    "len(dpr_dataset)"
   ]
  },
  {
   "cell_type": "code",
   "execution_count": 16,
   "metadata": {},
   "outputs": [],
   "source": [
    "dpr_dataset_train = dpr_raw_dataset"
   ]
  },
  {
   "cell_type": "code",
   "execution_count": 17,
   "metadata": {},
   "outputs": [
    {
     "name": "stderr",
     "output_type": "stream",
     "text": [
      "100%|██████████| 240/240 [00:00<00:00, 2184.12it/s]\n"
     ]
    },
    {
     "data": {
      "text/plain": [
       "240"
      ]
     },
     "execution_count": 17,
     "metadata": {},
     "output_type": "execute_result"
    }
   ],
   "source": [
    "dpr_dataset_valid = construct_dpr_dataset(dataset_raw['validation'], 3, 1)\n",
    "len(dpr_dataset_valid)"
   ]
  },
  {
   "cell_type": "markdown",
   "metadata": {},
   "source": [
    "# Set Index\n",
    "- 데이터 셋의 각 텍스트에 고유 인덱스 부여\n",
    "- 데이터 셋에 동일한 텍스트가 여러 개 있을 경우 모두 동일한 인덱스를 부여"
   ]
  },
  {
   "cell_type": "code",
   "execution_count": 17,
   "metadata": {},
   "outputs": [],
   "source": [
    "def set_index_to_text(dataset):\n",
    "    text_2_index = {}\n",
    "    text_2_title = {}\n",
    "    current_idx = 0  # Initialize the starting index\n",
    "\n",
    "    for sample in dataset:\n",
    "        pos_text = [pos['text'] for pos in sample['positive']]\n",
    "        pos_title = [pos['title'] for pos in sample['positive']]\n",
    "    \n",
    "        all_idx = []\n",
    "        for text, title in zip(pos_text, pos_title):\n",
    "            if text not in text_2_index:\n",
    "                text_2_index[text] = current_idx \n",
    "                text_2_title[text] = title  # Map the text to its title\n",
    "                current_idx += 1\n",
    "\n",
    "        for pos in sample['positive']:\n",
    "            pos['idx'] = text_2_index[pos['text']]\n",
    "            all_idx.append(text_2_index[pos['text']])\n",
    "        \n",
    "        sample['answer_idx'] = all_idx\n",
    "\n",
    "    return dataset, text_2_index, text_2_title"
   ]
  },
  {
   "cell_type": "code",
   "execution_count": 21,
   "metadata": {},
   "outputs": [],
   "source": [
    "dpr_dataset, text_2_index, text_2_title = set_index_to_text(dpr_dataset)"
   ]
  },
  {
   "cell_type": "code",
   "execution_count": 18,
   "metadata": {},
   "outputs": [],
   "source": [
    "dpr_dataset_train, text_2_index_train, text_2_title_train = set_index_to_text(dpr_dataset_train)"
   ]
  },
  {
   "cell_type": "code",
   "execution_count": 19,
   "metadata": {},
   "outputs": [],
   "source": [
    "dpr_dataset_valid, text_2_index_valid, text_2_title_valid = set_index_to_text(dpr_dataset_valid)"
   ]
  },
  {
   "cell_type": "markdown",
   "metadata": {},
   "source": [
    "# Add Hard Negative\n",
    "- get_hard_negative 함수를 이용해 '정답이 아니지만 정답처럼 보이는 텍스트(Hard Negative)' 찾기\n",
    "- BM25 점수가 가장 높은 n 개를 추출한 후 그 중에서 가장 높은 점수의 텍스트가 차례로 Hard Negative 샘플로 선택\n",
    "- KorQuad의 경우 여러 질문이 동일한 텍스트에 연결된 경우가 많아 False Negative를 방지하기 위해 동일한 텍스트는 모두 필터링\n",
    "- 필터링의 결과로 n 개의 텍스트에서 Hard Negative 샘플을 정해진 수만큼 찾지 못한 경우 기존의 것을 복제해 사용\n",
    "- positive의 텍스트 개수와 hard_neg의 텍스트 개수는 일치해야 함"
   ]
  },
  {
   "cell_type": "code",
   "execution_count": 19,
   "metadata": {},
   "outputs": [],
   "source": [
    "from kiwipiepy import Kiwi\n",
    "kiwi=Kiwi()"
   ]
  },
  {
   "cell_type": "code",
   "execution_count": 20,
   "metadata": {},
   "outputs": [],
   "source": [
    "def get_hard_negative(dataset, text_2_index, text_2_title, n=30):\n",
    "    corpus = list(text_2_index.keys())\n",
    "    \n",
    "    tokenized_corpus = []\n",
    "    for context in corpus:\n",
    "        morph_context = kiwi.tokenize(context)\n",
    "        morph_context_form = [x.form for x in morph_context]\n",
    "        tokenized_corpus.append(morph_context_form)\n",
    "    \n",
    "    bm25 = BM25Okapi(tokenized_corpus)\n",
    "\n",
    "    for sample in tqdm(dataset, desc=\"Processing samples\"):\n",
    "        question = sample['question']\n",
    "        morph_question = kiwi.tokenize(question)\n",
    "        morph_question_form = [x.form for x in morph_question]\n",
    "        positive = sample['positive']\n",
    "\n",
    "        top_n = bm25.get_top_n(morph_question_form, corpus, n=n)  # Increase n to have more candidates\n",
    "        \n",
    "        hard_neg = []\n",
    "        positive_idx_set = set(sample['answer_idx'])\n",
    "        for doc in top_n:\n",
    "            if text_2_index[doc] not in positive_idx_set:\n",
    "                hard_neg.append({'title': text_2_title[doc],\n",
    "                                 'text': doc,\n",
    "                                 'idx': text_2_index[doc]})\n",
    "            \n",
    "            if len(hard_neg) >= len(positive):\n",
    "                break\n",
    "\n",
    "        if len(hard_neg) == 0:\n",
    "            print(f\"Skipping sample due to lack of hard negatives: {question}\")\n",
    "            continue\n",
    "        \n",
    "        # If not enough hard negatives, repeat existing ones to match the number of positives\n",
    "        if len(hard_neg) < len(positive):\n",
    "            print(f\"Warning: Not enough hard negatives for question: {question}. Duplicating existing hard negatives.\")\n",
    "            while len(hard_neg) < len(positive):\n",
    "                hard_neg.extend(hard_neg[:len(positive) - len(hard_neg)])\n",
    "        \n",
    "        sample['hard_neg'] = hard_neg[:len(positive)]  # Trim to ensure exact number matches positive samples\n",
    "        \n",
    "    return dataset"
   ]
  },
  {
   "cell_type": "code",
   "execution_count": 24,
   "metadata": {},
   "outputs": [
    {
     "name": "stderr",
     "output_type": "stream",
     "text": [
      "Processing samples: 100%|██████████| 64359/64359 [4:12:42<00:00,  4.24it/s]  \n"
     ]
    }
   ],
   "source": [
    "dpr_dataset = get_hard_negative(dpr_dataset, text_2_index, text_2_title, n=30)"
   ]
  },
  {
   "cell_type": "code",
   "execution_count": 25,
   "metadata": {},
   "outputs": [
    {
     "data": {
      "text/plain": [
       "{'question': '바그너는 괴테의 파우스트를 읽고 무엇을 쓰고자 했는가?',\n",
       " 'answers': ['교향곡'],\n",
       " 'positive': [{'title': '파우스트_서곡',\n",
       "   'text': '1839년 바그너는 괴테의 파우스트을 처음 읽고 그 내용에 마음이 끌려 이를 소재로 해서 하나의 교향곡을 쓰려는 뜻을 갖는다. 이 시기 바그너는 1838년에 빛 독촉으로 산전수전을 다 걲은 상황이라 좌절과 실망에 가득했으며 메피스토펠레스를 만나는 파우스트의 심경에 공감했다고 한다. 또한 파리에서 아브네크의 지휘로 파리 음악원 관현악단이 연주하는 베토벤의 교향곡 9번을 듣고 깊은 감명을 받았는데, 이것이 이듬해 1월에 파우스트의 서곡으로 쓰여진 이 작품에 조금이라도 영향을 끼쳤으리라는 것은 의심할 여지가 없다.',\n",
       "   'idx': 0},\n",
       "  {'title': '파우스트_서곡',\n",
       "   'text': '또한 파리에서 아브네크의 지휘로 파리 음악원 관현악단이 연주하는 베토벤의 교향곡 9번을 듣고 깊은 감명을 받았는데, 이것이 이듬해 1월에 파우스트의 서곡으로 쓰여진 이 작품에 조금이라도 영향을 끼쳤으리라는 것은 의심할 여지가 없다. 여기의 라단조 조성의 경우에도 그의 전기에 적혀 있는 것처럼 단순한 정신적 피로나 실의가 반영된 것이 아니라 베토벤의 합창교향곡 조성의 영향을 받은 것을 볼 수 있다. 그렇게 교향곡 작곡을 1839년부터 40년에 걸쳐 파리에서 착수했으나 1악장을 쓴 뒤에 중단했다.',\n",
       "   'idx': 1},\n",
       "  {'title': '파우스트_서곡',\n",
       "   'text': '그렇게 교향곡 작곡을 1839년부터 40년에 걸쳐 파리에서 착수했으나 1악장을 쓴 뒤에 중단했다. 또한 작품의 완성과 동시에 그는 이 서곡(1악장)을 파리 음악원의 연주회에서 연주할 파트보까지 준비하였으나, 실제로는 이루어지지는 않았다. 결국 초연은 4년 반이 지난 후에 드레스덴에서 연주되었고 재연도 이루어졌지만, 이후에 그대로 방치되고 말았다.',\n",
       "   'idx': 2}],\n",
       " 'answer_idx': [0, 1, 2],\n",
       " 'hard_neg': [{'title': '과학사회학',\n",
       "   'text': '예를 들어 지식사회학은 지식의 실존적 기초, 즉 \"지식이 무엇에서 기원하는가? \"라는 물음에만 매달렸으며 학자들은 자신의 신념에 따라 유물론·관념론의 입장을 변호하는데 그쳤다. 머턴의 비판은 1945년 논문 〈지식사회학 The Sociology of Science〉에서 절정에 달하는데, 그는 \"지식사회학이 가설과 절대적 교조(敎條)를 혼동하는 시대에서 벗어나고 있으며, 기존의 사변적 통찰은 철저한 검증을 받고 있다\"라고 역설하였다.',\n",
       "   'idx': 15715},\n",
       "  {'title': '고구려-당 전쟁',\n",
       "   'text': '원만경이 편지를 써서 말하기를 \"압록강은 고구려의 요충지인데 고구려는 지킬 줄 모르는가? \"라고 비웃었다.\\\\n\\\\n하지만 이 서신을 보낸 사자가 고구려 군에게 잡혔고 이를 보고 고구려 총사령관 대막리지 연남건은 회보하기를 \"삼가 명령을 듣겠다. \"라고 하고, 즉시 고구려 군사를 옮겨 압록강 나루에 진을 쳤다.',\n",
       "   'idx': 35626},\n",
       "  {'title': '과학사회학',\n",
       "   'text': '이와 같은 과정을 거치면서 머턴은 \"지식은 사회체계의 일부이므로 다른 부분들과 항상 갈등한다\"라는 지식사회학의 중요한 함의를 수용함과 동시에 학문이 갖고 있는 한계점을 간파하였다. 지식사회학은 1930년대부터 발전이 정체되었는데, 머턴에 의하면 지식사회학이 지나치게 추상적이었고 사변적인 탓이었다. 예를 들어 지식사회학은 지식의 실존적 기초, 즉 \"지식이 무엇에서 기원하는가?',\n",
       "   'idx': 15714}]}"
      ]
     },
     "execution_count": 25,
     "metadata": {},
     "output_type": "execute_result"
    }
   ],
   "source": [
    "dpr_dataset[0]"
   ]
  },
  {
   "cell_type": "code",
   "execution_count": 26,
   "metadata": {},
   "outputs": [],
   "source": [
    "file_path = 'dpr_train_v2.json'"
   ]
  },
  {
   "cell_type": "code",
   "execution_count": 27,
   "metadata": {},
   "outputs": [],
   "source": [
    "with open(file_path, 'w') as outfile:\n",
    "    json.dump(dpr_dataset, outfile, indent=4)"
   ]
  },
  {
   "cell_type": "code",
   "execution_count": 22,
   "metadata": {},
   "outputs": [
    {
     "name": "stderr",
     "output_type": "stream",
     "text": [
      "Processing samples: 100%|██████████| 3952/3952 [03:05<00:00, 21.35it/s]\n"
     ]
    }
   ],
   "source": [
    "dpr_dataset_train = get_hard_negative(dpr_dataset_train, text_2_index_train, text_2_title_train, n=30)"
   ]
  },
  {
   "cell_type": "code",
   "execution_count": 23,
   "metadata": {},
   "outputs": [],
   "source": [
    "file_path = 'dpr_raw_train_v2.json'\n",
    "with open(file_path, 'w') as outfile:\n",
    "    json.dump(dpr_dataset_train, outfile, indent=4)"
   ]
  },
  {
   "cell_type": "code",
   "execution_count": 22,
   "metadata": {},
   "outputs": [
    {
     "name": "stderr",
     "output_type": "stream",
     "text": [
      "Processing samples: 100%|██████████| 240/240 [00:00<00:00, 401.74it/s]\n"
     ]
    }
   ],
   "source": [
    "dpr_dataset_valid = get_hard_negative(dpr_dataset_valid, text_2_index_valid, text_2_title_valid, n=30)"
   ]
  },
  {
   "cell_type": "code",
   "execution_count": 24,
   "metadata": {},
   "outputs": [],
   "source": [
    "file_path = 'dpr_valid_v2.json'\n",
    "with open(file_path, 'w') as outfile:\n",
    "    json.dump(dpr_dataset_valid, outfile, indent=4)"
   ]
  }
 ],
 "metadata": {
  "kernelspec": {
   "display_name": ".venv_sh",
   "language": "python",
   "name": "python3"
  },
  "language_info": {
   "codemirror_mode": {
    "name": "ipython",
    "version": 3
   },
   "file_extension": ".py",
   "mimetype": "text/x-python",
   "name": "python",
   "nbconvert_exporter": "python",
   "pygments_lexer": "ipython3",
   "version": "3.10.13"
  }
 },
 "nbformat": 4,
 "nbformat_minor": 2
}
