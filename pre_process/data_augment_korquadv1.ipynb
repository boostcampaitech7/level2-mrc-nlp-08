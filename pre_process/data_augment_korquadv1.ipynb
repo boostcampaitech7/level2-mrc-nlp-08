{
 "cells": [
  {
   "cell_type": "markdown",
   "metadata": {},
   "source": [
    "# 오픈 데이터 추가\n",
    "\n",
    "- KorQuAD 1.0의 전체 데이터는 1,560 개의 Wikipedia article에 대해 10,645 건의 문단과 66,181 개의 질의응답 쌍으로, Training set 60,407 개, Dev set 5,774 개의 질의응답쌍으로 구분하였습니다.\n",
    "\n",
    "- KorQuAD 1.0의 데이터셋은 CC BY-ND 2.0 KR 라이센스를 따릅니다.\n",
    "\n",
    "- 《 》answers에 추가\n",
    "\n",
    "- 고대그리스어, 상형 문자 제거\n",
    "\n",
    "- train Dataset만 사용, context 1개에 여러 question이 있는 데이터인데, context마다 random question 1개만 추가"
   ]
  },
  {
   "cell_type": "code",
   "execution_count": 1,
   "metadata": {},
   "outputs": [
    {
     "name": "stderr",
     "output_type": "stream",
     "text": [
      "/data/ephemeral/home/sh/level2-mrc-nlp-08/.venv_sh/lib/python3.10/site-packages/tqdm/auto.py:21: TqdmWarning: IProgress not found. Please update jupyter and ipywidgets. See https://ipywidgets.readthedocs.io/en/stable/user_install.html\n",
      "  from .autonotebook import tqdm as notebook_tqdm\n"
     ]
    }
   ],
   "source": [
    "from datasets import load_dataset\n",
    "from tqdm import tqdm\n",
    "import numpy as np"
   ]
  },
  {
   "cell_type": "code",
   "execution_count": 2,
   "metadata": {},
   "outputs": [],
   "source": [
    "dataset = load_dataset(\"KorQuAD/squad_kor_v1\")"
   ]
  },
  {
   "cell_type": "code",
   "execution_count": 3,
   "metadata": {},
   "outputs": [
    {
     "data": {
      "text/plain": [
       "DatasetDict({\n",
       "    train: Dataset({\n",
       "        features: ['id', 'title', 'context', 'question', 'answers'],\n",
       "        num_rows: 60407\n",
       "    })\n",
       "    validation: Dataset({\n",
       "        features: ['id', 'title', 'context', 'question', 'answers'],\n",
       "        num_rows: 5774\n",
       "    })\n",
       "})"
      ]
     },
     "execution_count": 3,
     "metadata": {},
     "output_type": "execute_result"
    }
   ],
   "source": [
    "dataset"
   ]
  },
  {
   "cell_type": "code",
   "execution_count": 4,
   "metadata": {},
   "outputs": [],
   "source": [
    "train_dataset = dataset['train']"
   ]
  },
  {
   "cell_type": "code",
   "execution_count": 5,
   "metadata": {},
   "outputs": [],
   "source": [
    "df_train = train_dataset.to_pandas()"
   ]
  },
  {
   "cell_type": "code",
   "execution_count": 10,
   "metadata": {},
   "outputs": [],
   "source": [
    "import re\n",
    "import unicodedata\n",
    "from langdetect import detect\n",
    "from langdetect.lang_detect_exception import LangDetectException\n",
    "\n",
    "def preprocess_text(text):\n",
    "    # 유니코드 BOM 제거\n",
    "    text = text.lstrip('\\ufeff')\n",
    "    \n",
    "    # 하이퍼링크 제거 (http, https, www 형식의 링크 제거)\n",
    "    text = re.sub(r'https?://\\S+|www\\.\\S+', '', text)\n",
    "    \n",
    "    # HTML 태그 제거\n",
    "    text = re.sub(r'<.*?>', '', text)\n",
    "    \n",
    "    # 여러 개의 공백을 하나의 공백으로 변환\n",
    "    text = re.sub(r'\\s+', ' ', text)\n",
    "    \n",
    "    # 유니코드 문자가 정상적으로 인코딩되었는지 확인 후 정규화\n",
    "    text = unicodedata.normalize('NFC', text)\n",
    "    \n",
    "    # 양쪽 끝 공백 제거\n",
    "    text = text.strip()\n",
    "\n",
    "    # words = text.split()\n",
    "    # filtered_words = []\n",
    "\n",
    "    # # 한글,영어 외 문자 제거\n",
    "    # for word in words:\n",
    "    #     if re.fullmatch(r'[가-힣0-9]+', word):\n",
    "    #         filtered_words.append(word)\n",
    "    #         continue\n",
    "\n",
    "    #     if re.fullmatch(r'[a-zA-Z0-9]+', word):\n",
    "    #         try:\n",
    "    #             lang = detect(word)\n",
    "    #             if lang == 'en':\n",
    "    #                 filtered_words.append(word)\n",
    "    #         except LangDetectException:\n",
    "    #             continue\n",
    "    #         continue\n",
    "\n",
    "    #     cleaned_word = re.sub(r'[^\\w\\s\\(\\)\\《\\》]', '', word)\n",
    "    #     if re.fullmatch(r'[가-힣a-zA-Z0-9\\(\\)\\《\\》]+', cleaned_word):\n",
    "    #         filtered_words.append(cleaned_word)\n",
    "\n",
    "    # text = \" \".join(filtered_words)\n",
    "    return text\n",
    "\n",
    "# 예시 텍스트\n",
    "# text = '''\\ufeff안녕하세요! <a href=\"https://example.com\">여기를 클릭하세요</a> www.example.com에서 더 많은 정보를 확인하세요.'''\n",
    "# clean_text = preprocess_text(text)\n",
    "\n",
    "# print(clean_text)"
   ]
  },
  {
   "cell_type": "code",
   "execution_count": 8,
   "metadata": {},
   "outputs": [],
   "source": [
    "from transformers import AutoModel, AutoTokenizer\n",
    "tokenizer = AutoTokenizer.from_pretrained(\"LGAI-EXAONE/EXAONE-3.0-7.8B-Instruct\")  # BertTokenizer"
   ]
  },
  {
   "cell_type": "code",
   "execution_count": 9,
   "metadata": {},
   "outputs": [
    {
     "name": "stdout",
     "output_type": "stream",
     "text": [
      "before preprocess 60407\n"
     ]
    }
   ],
   "source": [
    "print('before preprocess',len(train_dataset))"
   ]
  },
  {
   "cell_type": "markdown",
   "metadata": {},
   "source": [
    "# Train dataset filtering"
   ]
  },
  {
   "cell_type": "code",
   "execution_count": 14,
   "metadata": {},
   "outputs": [],
   "source": [
    "long_tokenized_pass=[]\n",
    "answer_result_pass=[]\n",
    "not_in_pre_context_pass=[]\n",
    "html_answer_pass=[]"
   ]
  },
  {
   "cell_type": "code",
   "execution_count": 15,
   "metadata": {},
   "outputs": [
    {
     "name": "stderr",
     "output_type": "stream",
     "text": [
      "  0%|          | 0/60407 [00:00<?, ?it/s]"
     ]
    },
    {
     "name": "stderr",
     "output_type": "stream",
     "text": [
      "100%|██████████| 60407/60407 [02:38<00:00, 381.11it/s]\n"
     ]
    }
   ],
   "source": [
    "train_filter_lst = []\n",
    "for _, row in tqdm(df_train.iterrows(),total=df_train.shape[0]):\n",
    "    context = row['context']\n",
    "    preprocess_context = preprocess_text(context)\n",
    "\n",
    "    # 1500보다 긴 token 수 예외\n",
    "    if len(tokenizer.encode(preprocess_context)) > 1500:\n",
    "        long_tokenized_pass.append(1)\n",
    "        continue\n",
    "    \n",
    "    question = row['question']\n",
    "    # question 토큰 35 초과 제거\n",
    "    if len(tokenizer.encode(question)) > 35:\n",
    "        continue\n",
    "    \n",
    "    answer = row['answers']\n",
    "    text = answer['text'][0]\n",
    "    # answer 토큰 25 초과 제거\n",
    "    if len(tokenizer.encode(text)) > 25:\n",
    "        continue\n",
    "    answer_start_fix = preprocess_context.find(text)\n",
    "    find_text = preprocess_context[answer_start_fix:answer_start_fix+len(text)]\n",
    "    \n",
    "    # find_text : preprocess_context 에서 [start index ~ start index+len(text)] 까지의 값 \n",
    "    # (preproces과정이 답에 영향을 미치는 경우)\n",
    "    # answer랑 다르면 예외\n",
    "    if text != find_text:\n",
    "        not_in_pre_context_pass.append(1)\n",
    "        continue\n",
    "        \n",
    "    # # answer에 《 》추가 및 answer_start_fix 1 감소\n",
    "    # if answer_start_fix!=0 and answer_start_fix+len(text)<len(preprocess_context):\n",
    "    #     if preprocess_context[answer_start_fix-1]==\"《\" and preprocess_context[answer_start_fix+len(text)]==\"》\":\n",
    "    #         text =\"《\"+find_text+\"》\"\n",
    "    #         answer_start_fix-=1\n",
    "\n",
    "    \n",
    "    # answer에 html_answer_start 있으면 예외\n",
    "    try:\n",
    "        del answer['html_answer_start']\n",
    "        html_answer_pass.append(1)\n",
    "    except:\n",
    "        pass\n",
    "    \n",
    "    answer['text'] = [text]\n",
    "    answer['answer_start'] = np.array([answer_start_fix])\n",
    "    row['context'] = preprocess_context\n",
    "    row['answers'] = answer\n",
    "    row['html'] = None\n",
    "    row['id'] = 'KorQuAD 1.0_' + str(row['id'])\n",
    "    train_filter_lst.append(row)"
   ]
  },
  {
   "cell_type": "code",
   "execution_count": 16,
   "metadata": {},
   "outputs": [
    {
     "name": "stdout",
     "output_type": "stream",
     "text": [
      "8\n",
      "0\n",
      "154\n",
      "0\n",
      "total 162\n"
     ]
    }
   ],
   "source": [
    "print(len(long_tokenized_pass))\n",
    "print(len(answer_result_pass))\n",
    "print(len(not_in_pre_context_pass))\n",
    "print(len(html_answer_pass))\n",
    "\n",
    "print('total',len(long_tokenized_pass)+len(answer_result_pass)+len(not_in_pre_context_pass)+len(html_answer_pass))"
   ]
  },
  {
   "cell_type": "code",
   "execution_count": 17,
   "metadata": {},
   "outputs": [
    {
     "name": "stdout",
     "output_type": "stream",
     "text": [
      "filtered_result :  58732\n"
     ]
    }
   ],
   "source": [
    "print('filtered_result : ',len(train_filter_lst))"
   ]
  },
  {
   "cell_type": "code",
   "execution_count": 18,
   "metadata": {},
   "outputs": [],
   "source": [
    "import pandas as pd\n",
    "df_train_filter = pd.DataFrame(train_filter_lst)"
   ]
  },
  {
   "cell_type": "code",
   "execution_count": 19,
   "metadata": {},
   "outputs": [
    {
     "data": {
      "text/html": [
       "<div>\n",
       "<style scoped>\n",
       "    .dataframe tbody tr th:only-of-type {\n",
       "        vertical-align: middle;\n",
       "    }\n",
       "\n",
       "    .dataframe tbody tr th {\n",
       "        vertical-align: top;\n",
       "    }\n",
       "\n",
       "    .dataframe thead th {\n",
       "        text-align: right;\n",
       "    }\n",
       "</style>\n",
       "<table border=\"1\" class=\"dataframe\">\n",
       "  <thead>\n",
       "    <tr style=\"text-align: right;\">\n",
       "      <th></th>\n",
       "      <th>id</th>\n",
       "      <th>title</th>\n",
       "      <th>context</th>\n",
       "      <th>question</th>\n",
       "      <th>answers</th>\n",
       "      <th>html</th>\n",
       "    </tr>\n",
       "  </thead>\n",
       "  <tbody>\n",
       "    <tr>\n",
       "      <th>0</th>\n",
       "      <td>KorQuAD 1.0_6566495-0-0</td>\n",
       "      <td>파우스트_서곡</td>\n",
       "      <td>1839년 바그너는 괴테의 파우스트을 처음 읽고 그 내용에 마음이 끌려 이를 소재로...</td>\n",
       "      <td>바그너는 괴테의 파우스트를 읽고 무엇을 쓰고자 했는가?</td>\n",
       "      <td>{'text': ['교향곡'], 'answer_start': [54]}</td>\n",
       "      <td>None</td>\n",
       "    </tr>\n",
       "    <tr>\n",
       "      <th>1</th>\n",
       "      <td>KorQuAD 1.0_6566495-0-1</td>\n",
       "      <td>파우스트_서곡</td>\n",
       "      <td>1839년 바그너는 괴테의 파우스트을 처음 읽고 그 내용에 마음이 끌려 이를 소재로...</td>\n",
       "      <td>바그너는 교향곡 작곡을 어디까지 쓴 뒤에 중단했는가?</td>\n",
       "      <td>{'text': ['1악장'], 'answer_start': [421]}</td>\n",
       "      <td>None</td>\n",
       "    </tr>\n",
       "    <tr>\n",
       "      <th>2</th>\n",
       "      <td>KorQuAD 1.0_6566495-0-2</td>\n",
       "      <td>파우스트_서곡</td>\n",
       "      <td>1839년 바그너는 괴테의 파우스트을 처음 읽고 그 내용에 마음이 끌려 이를 소재로...</td>\n",
       "      <td>바그너가 파우스트 서곡을 쓸 때 어떤 곡의 영향을 받았는가?</td>\n",
       "      <td>{'text': ['베토벤의 교향곡 9번'], 'answer_start': [194]}</td>\n",
       "      <td>None</td>\n",
       "    </tr>\n",
       "    <tr>\n",
       "      <th>3</th>\n",
       "      <td>KorQuAD 1.0_6566518-0-0</td>\n",
       "      <td>파우스트_서곡</td>\n",
       "      <td>1839년 바그너는 괴테의 파우스트을 처음 읽고 그 내용에 마음이 끌려 이를 소재로...</td>\n",
       "      <td>1839년 바그너가 교향곡의 소재로 쓰려고 했던 책은?</td>\n",
       "      <td>{'text': ['파우스트'], 'answer_start': [15]}</td>\n",
       "      <td>None</td>\n",
       "    </tr>\n",
       "    <tr>\n",
       "      <th>4</th>\n",
       "      <td>KorQuAD 1.0_6566518-0-1</td>\n",
       "      <td>파우스트_서곡</td>\n",
       "      <td>1839년 바그너는 괴테의 파우스트을 처음 읽고 그 내용에 마음이 끌려 이를 소재로...</td>\n",
       "      <td>파우스트 서곡의 라단조 조성이 영향을 받은 베토벤의 곡은?</td>\n",
       "      <td>{'text': ['합창교향곡'], 'answer_start': [354]}</td>\n",
       "      <td>None</td>\n",
       "    </tr>\n",
       "    <tr>\n",
       "      <th>...</th>\n",
       "      <td>...</td>\n",
       "      <td>...</td>\n",
       "      <td>...</td>\n",
       "      <td>...</td>\n",
       "      <td>...</td>\n",
       "      <td>...</td>\n",
       "    </tr>\n",
       "    <tr>\n",
       "      <th>60402</th>\n",
       "      <td>KorQuAD 1.0_6467478-1-1</td>\n",
       "      <td>뉴델리_메탈로-베타락타마제</td>\n",
       "      <td>유전자의 이름은 인도의 수도 뉴델리의 이름을 따 붙여졌는데, 이는 2009년 용 (...</td>\n",
       "      <td>뉴델리 메탈로 베타락마제가 처음 감염 된 지역은 어디인가?</td>\n",
       "      <td>{'text': ['인도'], 'answer_start': [9]}</td>\n",
       "      <td>None</td>\n",
       "    </tr>\n",
       "    <tr>\n",
       "      <th>60403</th>\n",
       "      <td>KorQuAD 1.0_6467478-2-0</td>\n",
       "      <td>뉴델리_메탈로-베타락타마제</td>\n",
       "      <td>2010년 8월, 저널 The Lancet Infectious Diseases에 최...</td>\n",
       "      <td>균은 유전자를 균에게 전달 할 수있는데 이러한 현상을 나타낸 용어는 무엇인가?</td>\n",
       "      <td>{'text': ['유전자 전달'], 'answer_start': [253]}</td>\n",
       "      <td>None</td>\n",
       "    </tr>\n",
       "    <tr>\n",
       "      <th>60404</th>\n",
       "      <td>KorQuAD 1.0_6467478-2-1</td>\n",
       "      <td>뉴델리_메탈로-베타락타마제</td>\n",
       "      <td>2010년 8월, 저널 The Lancet Infectious Diseases에 최...</td>\n",
       "      <td>박테리아가 NDM-1 유전자를 가지고 있을때 발생하는 전파를 분석하기위해 사용된 영...</td>\n",
       "      <td>{'text': ['37건'], 'answer_start': [129]}</td>\n",
       "      <td>None</td>\n",
       "    </tr>\n",
       "    <tr>\n",
       "      <th>60405</th>\n",
       "      <td>KorQuAD 1.0_6490801-2-0</td>\n",
       "      <td>뉴델리_메탈로-베타락타마제</td>\n",
       "      <td>2010년 8월, 저널 The Lancet Infectious Diseases에 최...</td>\n",
       "      <td>NDM-1 유전자를 가진 박테리아가 감수성을 보인 폴리믹슨 계열 항생제는?</td>\n",
       "      <td>{'text': ['콜리스틴'], 'answer_start': [404]}</td>\n",
       "      <td>None</td>\n",
       "    </tr>\n",
       "    <tr>\n",
       "      <th>60406</th>\n",
       "      <td>KorQuAD 1.0_6490801-2-1</td>\n",
       "      <td>뉴델리_메탈로-베타락타마제</td>\n",
       "      <td>2010년 8월, 저널 The Lancet Infectious Diseases에 최...</td>\n",
       "      <td>2010년 8월, NDM-1 유전자를 가진 박테리아의 발생과 전파를 분석한 다국적 ...</td>\n",
       "      <td>{'text': ['The Lancet Infectious Diseases'], '...</td>\n",
       "      <td>None</td>\n",
       "    </tr>\n",
       "  </tbody>\n",
       "</table>\n",
       "<p>58732 rows × 6 columns</p>\n",
       "</div>"
      ],
      "text/plain": [
       "                            id           title  \\\n",
       "0      KorQuAD 1.0_6566495-0-0         파우스트_서곡   \n",
       "1      KorQuAD 1.0_6566495-0-1         파우스트_서곡   \n",
       "2      KorQuAD 1.0_6566495-0-2         파우스트_서곡   \n",
       "3      KorQuAD 1.0_6566518-0-0         파우스트_서곡   \n",
       "4      KorQuAD 1.0_6566518-0-1         파우스트_서곡   \n",
       "...                        ...             ...   \n",
       "60402  KorQuAD 1.0_6467478-1-1  뉴델리_메탈로-베타락타마제   \n",
       "60403  KorQuAD 1.0_6467478-2-0  뉴델리_메탈로-베타락타마제   \n",
       "60404  KorQuAD 1.0_6467478-2-1  뉴델리_메탈로-베타락타마제   \n",
       "60405  KorQuAD 1.0_6490801-2-0  뉴델리_메탈로-베타락타마제   \n",
       "60406  KorQuAD 1.0_6490801-2-1  뉴델리_메탈로-베타락타마제   \n",
       "\n",
       "                                                 context  \\\n",
       "0      1839년 바그너는 괴테의 파우스트을 처음 읽고 그 내용에 마음이 끌려 이를 소재로...   \n",
       "1      1839년 바그너는 괴테의 파우스트을 처음 읽고 그 내용에 마음이 끌려 이를 소재로...   \n",
       "2      1839년 바그너는 괴테의 파우스트을 처음 읽고 그 내용에 마음이 끌려 이를 소재로...   \n",
       "3      1839년 바그너는 괴테의 파우스트을 처음 읽고 그 내용에 마음이 끌려 이를 소재로...   \n",
       "4      1839년 바그너는 괴테의 파우스트을 처음 읽고 그 내용에 마음이 끌려 이를 소재로...   \n",
       "...                                                  ...   \n",
       "60402  유전자의 이름은 인도의 수도 뉴델리의 이름을 따 붙여졌는데, 이는 2009년 용 (...   \n",
       "60403  2010년 8월, 저널 The Lancet Infectious Diseases에 최...   \n",
       "60404  2010년 8월, 저널 The Lancet Infectious Diseases에 최...   \n",
       "60405  2010년 8월, 저널 The Lancet Infectious Diseases에 최...   \n",
       "60406  2010년 8월, 저널 The Lancet Infectious Diseases에 최...   \n",
       "\n",
       "                                                question  \\\n",
       "0                         바그너는 괴테의 파우스트를 읽고 무엇을 쓰고자 했는가?   \n",
       "1                          바그너는 교향곡 작곡을 어디까지 쓴 뒤에 중단했는가?   \n",
       "2                      바그너가 파우스트 서곡을 쓸 때 어떤 곡의 영향을 받았는가?   \n",
       "3                         1839년 바그너가 교향곡의 소재로 쓰려고 했던 책은?   \n",
       "4                       파우스트 서곡의 라단조 조성이 영향을 받은 베토벤의 곡은?   \n",
       "...                                                  ...   \n",
       "60402                   뉴델리 메탈로 베타락마제가 처음 감염 된 지역은 어디인가?   \n",
       "60403        균은 유전자를 균에게 전달 할 수있는데 이러한 현상을 나타낸 용어는 무엇인가?   \n",
       "60404  박테리아가 NDM-1 유전자를 가지고 있을때 발생하는 전파를 분석하기위해 사용된 영...   \n",
       "60405          NDM-1 유전자를 가진 박테리아가 감수성을 보인 폴리믹슨 계열 항생제는?   \n",
       "60406  2010년 8월, NDM-1 유전자를 가진 박테리아의 발생과 전파를 분석한 다국적 ...   \n",
       "\n",
       "                                                 answers  html  \n",
       "0                {'text': ['교향곡'], 'answer_start': [54]}  None  \n",
       "1               {'text': ['1악장'], 'answer_start': [421]}  None  \n",
       "2       {'text': ['베토벤의 교향곡 9번'], 'answer_start': [194]}  None  \n",
       "3               {'text': ['파우스트'], 'answer_start': [15]}  None  \n",
       "4             {'text': ['합창교향곡'], 'answer_start': [354]}  None  \n",
       "...                                                  ...   ...  \n",
       "60402              {'text': ['인도'], 'answer_start': [9]}  None  \n",
       "60403        {'text': ['유전자 전달'], 'answer_start': [253]}  None  \n",
       "60404           {'text': ['37건'], 'answer_start': [129]}  None  \n",
       "60405          {'text': ['콜리스틴'], 'answer_start': [404]}  None  \n",
       "60406  {'text': ['The Lancet Infectious Diseases'], '...  None  \n",
       "\n",
       "[58732 rows x 6 columns]"
      ]
     },
     "execution_count": 19,
     "metadata": {},
     "output_type": "execute_result"
    }
   ],
   "source": [
    "df_train_filter"
   ]
  },
  {
   "cell_type": "code",
   "execution_count": 25,
   "metadata": {},
   "outputs": [],
   "source": [
    "title_lst = set(df_train_filter['title'].tolist())"
   ]
  },
  {
   "cell_type": "code",
   "execution_count": 27,
   "metadata": {},
   "outputs": [
    {
     "data": {
      "text/plain": [
       "1417"
      ]
     },
     "execution_count": 27,
     "metadata": {},
     "output_type": "execute_result"
    }
   ],
   "source": [
    "len(title_lst)"
   ]
  },
  {
   "cell_type": "code",
   "execution_count": 29,
   "metadata": {},
   "outputs": [],
   "source": [
    "import random \n",
    "random.seed(104) # python random seed 고정"
   ]
  },
  {
   "cell_type": "code",
   "execution_count": 30,
   "metadata": {},
   "outputs": [
    {
     "name": "stderr",
     "output_type": "stream",
     "text": [
      "/tmp/ipykernel_1168453/151901038.py:1: DeprecationWarning: Sampling from a set deprecated\n",
      "since Python 3.9 and will be removed in a subsequent version.\n",
      "  df_train_filter_2 = df_train_filter[df_train_filter['title'].isin(random.sample(title_lst, 500))]\n"
     ]
    }
   ],
   "source": [
    "df_train_filter_2 = df_train_filter[df_train_filter['title'].isin(random.sample(title_lst, 500))]"
   ]
  },
  {
   "cell_type": "code",
   "execution_count": 16,
   "metadata": {},
   "outputs": [],
   "source": [
    "def sampling_func(data):\n",
    "    np.random.seed(104)\n",
    "    N = len(data)\n",
    "    sample_n = 1 # integer\n",
    "    sample = data.take(np.random.permutation(N)[:sample_n])\n",
    "    return sample"
   ]
  },
  {
   "cell_type": "code",
   "execution_count": 15,
   "metadata": {},
   "outputs": [
    {
     "name": "stderr",
     "output_type": "stream",
     "text": [
      "C:\\Users\\User\\AppData\\Local\\Temp\\ipykernel_20180\\2650914660.py:1: DeprecationWarning: DataFrameGroupBy.apply operated on the grouping columns. This behavior is deprecated, and in a future version of pandas the grouping columns will be excluded from the operation. Either pass `include_groups=False` to exclude the groupings or explicitly select the grouping columns after groupby to silence this warning.\n",
      "  df_train_filter = df_train_filter.groupby('context').apply(sampling_func)\n"
     ]
    }
   ],
   "source": [
    "df_train_filter = df_train_filter.groupby('context').apply(sampling_func)\n",
    "df_train_filter = df_train_filter.reset_index(drop=True)"
   ]
  },
  {
   "cell_type": "code",
   "execution_count": 16,
   "metadata": {},
   "outputs": [],
   "source": [
    "# df_train_filter.to_csv('koquadv1_train.csv', encoding='utf-8-sig')"
   ]
  },
  {
   "cell_type": "markdown",
   "metadata": {},
   "source": [
    "# 기존 Train + KorQuAD Train"
   ]
  },
  {
   "cell_type": "code",
   "execution_count": 32,
   "metadata": {},
   "outputs": [],
   "source": [
    "from datasets import load_from_disk\n",
    "datasets = load_from_disk(\"../resources/data/train_dataset\") # 기존 train dataset"
   ]
  },
  {
   "cell_type": "code",
   "execution_count": 33,
   "metadata": {},
   "outputs": [
    {
     "data": {
      "text/plain": [
       "DatasetDict({\n",
       "    train: Dataset({\n",
       "        features: ['title', 'context', 'question', 'id', 'answers', 'document_id', '__index_level_0__'],\n",
       "        num_rows: 3952\n",
       "    })\n",
       "    validation: Dataset({\n",
       "        features: ['title', 'context', 'question', 'id', 'answers', 'document_id', '__index_level_0__'],\n",
       "        num_rows: 240\n",
       "    })\n",
       "})"
      ]
     },
     "execution_count": 33,
     "metadata": {},
     "output_type": "execute_result"
    }
   ],
   "source": [
    "datasets"
   ]
  },
  {
   "cell_type": "code",
   "execution_count": 21,
   "metadata": {},
   "outputs": [],
   "source": [
    "raw_train_df = datasets['train'].to_pandas()"
   ]
  },
  {
   "cell_type": "code",
   "execution_count": 22,
   "metadata": {},
   "outputs": [],
   "source": [
    "df_train_filter = df_train_filter.drop(['html'], axis=1)\n",
    "raw_train_df_augmentation = pd.concat([raw_train_df, df_train_filter])\n",
    "raw_train_df_augmentation = raw_train_df_augmentation.reset_index(drop=True)"
   ]
  },
  {
   "cell_type": "code",
   "execution_count": 23,
   "metadata": {
    "scrolled": true
   },
   "outputs": [
    {
     "data": {
      "text/html": [
       "<div>\n",
       "<style scoped>\n",
       "    .dataframe tbody tr th:only-of-type {\n",
       "        vertical-align: middle;\n",
       "    }\n",
       "\n",
       "    .dataframe tbody tr th {\n",
       "        vertical-align: top;\n",
       "    }\n",
       "\n",
       "    .dataframe thead th {\n",
       "        text-align: right;\n",
       "    }\n",
       "</style>\n",
       "<table border=\"1\" class=\"dataframe\">\n",
       "  <thead>\n",
       "    <tr style=\"text-align: right;\">\n",
       "      <th></th>\n",
       "      <th>title</th>\n",
       "      <th>context</th>\n",
       "      <th>question</th>\n",
       "      <th>id</th>\n",
       "      <th>answers</th>\n",
       "      <th>document_id</th>\n",
       "      <th>__index_level_0__</th>\n",
       "    </tr>\n",
       "  </thead>\n",
       "  <tbody>\n",
       "    <tr>\n",
       "      <th>0</th>\n",
       "      <td>미국 상원</td>\n",
       "      <td>미국 상의원 또는 미국 상원(United States Senate)은 양원제인 미국...</td>\n",
       "      <td>대통령을 포함한 미국의 행정부 견제권을 갖는 국가 기관은?</td>\n",
       "      <td>mrc-1-000067</td>\n",
       "      <td>{'answer_start': [235], 'text': ['하원']}</td>\n",
       "      <td>18293.0</td>\n",
       "      <td>42.0</td>\n",
       "    </tr>\n",
       "    <tr>\n",
       "      <th>1</th>\n",
       "      <td>인사조직관리</td>\n",
       "      <td>'근대적 경영학' 또는 '고전적 경영학'에서 현대적 경영학으로 전환되는 시기는 19...</td>\n",
       "      <td>현대적 인사조직관리의 시발점이 된 책은?</td>\n",
       "      <td>mrc-0-004397</td>\n",
       "      <td>{'answer_start': [212], 'text': ['《경영의 실제》']}</td>\n",
       "      <td>51638.0</td>\n",
       "      <td>2873.0</td>\n",
       "    </tr>\n",
       "    <tr>\n",
       "      <th>2</th>\n",
       "      <td>강희제</td>\n",
       "      <td>강희제는 강화된 황권으로 거의 황제 중심의 독단적으로 나라를 이끌어 갔기에 자칫 전...</td>\n",
       "      <td>강희제가 1717년에 쓴 글은 누구를 위해 쓰여졌는가?</td>\n",
       "      <td>mrc-1-000362</td>\n",
       "      <td>{'answer_start': [510], 'text': ['백성']}</td>\n",
       "      <td>5028.0</td>\n",
       "      <td>230.0</td>\n",
       "    </tr>\n",
       "    <tr>\n",
       "      <th>3</th>\n",
       "      <td>금동삼존불감</td>\n",
       "      <td>불상을 모시기 위해 나무나 돌, 쇠 등을 깎아 일반적인 건축물보다 작은 규모로 만든...</td>\n",
       "      <td>11~12세기에 제작된 본존불은 보통 어떤 나라의 특징이 전파되었나요?</td>\n",
       "      <td>mrc-0-001510</td>\n",
       "      <td>{'answer_start': [625], 'text': ['중국']}</td>\n",
       "      <td>34146.0</td>\n",
       "      <td>992.0</td>\n",
       "    </tr>\n",
       "    <tr>\n",
       "      <th>4</th>\n",
       "      <td>계사명 사리구</td>\n",
       "      <td>동아대학교박물관에서 소장하고 있는 계사명 사리구는 총 4개의 용기로 구성된 조선후기...</td>\n",
       "      <td>명문이 적힌 유물을 구성하는 그릇의 총 개수는?</td>\n",
       "      <td>mrc-0-000823</td>\n",
       "      <td>{'answer_start': [30], 'text': ['4개']}</td>\n",
       "      <td>47334.0</td>\n",
       "      <td>548.0</td>\n",
       "    </tr>\n",
       "    <tr>\n",
       "      <th>...</th>\n",
       "      <td>...</td>\n",
       "      <td>...</td>\n",
       "      <td>...</td>\n",
       "      <td>...</td>\n",
       "      <td>...</td>\n",
       "      <td>...</td>\n",
       "      <td>...</td>\n",
       "    </tr>\n",
       "    <tr>\n",
       "      <th>63580</th>\n",
       "      <td>뉴델리_메탈로-베타락타마제</td>\n",
       "      <td>유전자의 이름은 인도의 수도 뉴델리의 이름을 따 붙여졌는데, 이는 2009년 용 (...</td>\n",
       "      <td>뉴델리 메탈로 베타락마제가 처음 감염 된 지역은 어디인가?</td>\n",
       "      <td>KorQuAD 1.0_6467478-1-1</td>\n",
       "      <td>{'text': ['인도'], 'answer_start': [9]}</td>\n",
       "      <td>NaN</td>\n",
       "      <td>NaN</td>\n",
       "    </tr>\n",
       "    <tr>\n",
       "      <th>63581</th>\n",
       "      <td>뉴델리_메탈로-베타락타마제</td>\n",
       "      <td>2010년 8월, 저널 The Lancet Infectious Diseases에 최...</td>\n",
       "      <td>균은 유전자를 균에게 전달 할 수있는데 이러한 현상을 나타낸 용어는 무엇인가?</td>\n",
       "      <td>KorQuAD 1.0_6467478-2-0</td>\n",
       "      <td>{'text': ['유전자 전달'], 'answer_start': [253]}</td>\n",
       "      <td>NaN</td>\n",
       "      <td>NaN</td>\n",
       "    </tr>\n",
       "    <tr>\n",
       "      <th>63582</th>\n",
       "      <td>뉴델리_메탈로-베타락타마제</td>\n",
       "      <td>2010년 8월, 저널 The Lancet Infectious Diseases에 최...</td>\n",
       "      <td>박테리아가 NDM-1 유전자를 가지고 있을때 발생하는 전파를 분석하기위해 사용된 영...</td>\n",
       "      <td>KorQuAD 1.0_6467478-2-1</td>\n",
       "      <td>{'text': ['37건'], 'answer_start': [129]}</td>\n",
       "      <td>NaN</td>\n",
       "      <td>NaN</td>\n",
       "    </tr>\n",
       "    <tr>\n",
       "      <th>63583</th>\n",
       "      <td>뉴델리_메탈로-베타락타마제</td>\n",
       "      <td>2010년 8월, 저널 The Lancet Infectious Diseases에 최...</td>\n",
       "      <td>NDM-1 유전자를 가진 박테리아가 감수성을 보인 폴리믹슨 계열 항생제는?</td>\n",
       "      <td>KorQuAD 1.0_6490801-2-0</td>\n",
       "      <td>{'text': ['콜리스틴'], 'answer_start': [404]}</td>\n",
       "      <td>NaN</td>\n",
       "      <td>NaN</td>\n",
       "    </tr>\n",
       "    <tr>\n",
       "      <th>63584</th>\n",
       "      <td>뉴델리_메탈로-베타락타마제</td>\n",
       "      <td>2010년 8월, 저널 The Lancet Infectious Diseases에 최...</td>\n",
       "      <td>2010년 8월, NDM-1 유전자를 가진 박테리아의 발생과 전파를 분석한 다국적 ...</td>\n",
       "      <td>KorQuAD 1.0_6490801-2-1</td>\n",
       "      <td>{'text': ['The Lancet Infectious Diseases'], '...</td>\n",
       "      <td>NaN</td>\n",
       "      <td>NaN</td>\n",
       "    </tr>\n",
       "  </tbody>\n",
       "</table>\n",
       "<p>63585 rows × 7 columns</p>\n",
       "</div>"
      ],
      "text/plain": [
       "                title                                            context  \\\n",
       "0               미국 상원  미국 상의원 또는 미국 상원(United States Senate)은 양원제인 미국...   \n",
       "1              인사조직관리  '근대적 경영학' 또는 '고전적 경영학'에서 현대적 경영학으로 전환되는 시기는 19...   \n",
       "2                 강희제  강희제는 강화된 황권으로 거의 황제 중심의 독단적으로 나라를 이끌어 갔기에 자칫 전...   \n",
       "3              금동삼존불감  불상을 모시기 위해 나무나 돌, 쇠 등을 깎아 일반적인 건축물보다 작은 규모로 만든...   \n",
       "4             계사명 사리구  동아대학교박물관에서 소장하고 있는 계사명 사리구는 총 4개의 용기로 구성된 조선후기...   \n",
       "...               ...                                                ...   \n",
       "63580  뉴델리_메탈로-베타락타마제  유전자의 이름은 인도의 수도 뉴델리의 이름을 따 붙여졌는데, 이는 2009년 용 (...   \n",
       "63581  뉴델리_메탈로-베타락타마제  2010년 8월, 저널 The Lancet Infectious Diseases에 최...   \n",
       "63582  뉴델리_메탈로-베타락타마제  2010년 8월, 저널 The Lancet Infectious Diseases에 최...   \n",
       "63583  뉴델리_메탈로-베타락타마제  2010년 8월, 저널 The Lancet Infectious Diseases에 최...   \n",
       "63584  뉴델리_메탈로-베타락타마제  2010년 8월, 저널 The Lancet Infectious Diseases에 최...   \n",
       "\n",
       "                                                question  \\\n",
       "0                       대통령을 포함한 미국의 행정부 견제권을 갖는 국가 기관은?   \n",
       "1                                 현대적 인사조직관리의 시발점이 된 책은?   \n",
       "2                         강희제가 1717년에 쓴 글은 누구를 위해 쓰여졌는가?   \n",
       "3                11~12세기에 제작된 본존불은 보통 어떤 나라의 특징이 전파되었나요?   \n",
       "4                             명문이 적힌 유물을 구성하는 그릇의 총 개수는?   \n",
       "...                                                  ...   \n",
       "63580                   뉴델리 메탈로 베타락마제가 처음 감염 된 지역은 어디인가?   \n",
       "63581        균은 유전자를 균에게 전달 할 수있는데 이러한 현상을 나타낸 용어는 무엇인가?   \n",
       "63582  박테리아가 NDM-1 유전자를 가지고 있을때 발생하는 전파를 분석하기위해 사용된 영...   \n",
       "63583          NDM-1 유전자를 가진 박테리아가 감수성을 보인 폴리믹슨 계열 항생제는?   \n",
       "63584  2010년 8월, NDM-1 유전자를 가진 박테리아의 발생과 전파를 분석한 다국적 ...   \n",
       "\n",
       "                            id  \\\n",
       "0                 mrc-1-000067   \n",
       "1                 mrc-0-004397   \n",
       "2                 mrc-1-000362   \n",
       "3                 mrc-0-001510   \n",
       "4                 mrc-0-000823   \n",
       "...                        ...   \n",
       "63580  KorQuAD 1.0_6467478-1-1   \n",
       "63581  KorQuAD 1.0_6467478-2-0   \n",
       "63582  KorQuAD 1.0_6467478-2-1   \n",
       "63583  KorQuAD 1.0_6490801-2-0   \n",
       "63584  KorQuAD 1.0_6490801-2-1   \n",
       "\n",
       "                                                 answers  document_id  \\\n",
       "0                {'answer_start': [235], 'text': ['하원']}      18293.0   \n",
       "1          {'answer_start': [212], 'text': ['《경영의 실제》']}      51638.0   \n",
       "2                {'answer_start': [510], 'text': ['백성']}       5028.0   \n",
       "3                {'answer_start': [625], 'text': ['중국']}      34146.0   \n",
       "4                 {'answer_start': [30], 'text': ['4개']}      47334.0   \n",
       "...                                                  ...          ...   \n",
       "63580              {'text': ['인도'], 'answer_start': [9]}          NaN   \n",
       "63581        {'text': ['유전자 전달'], 'answer_start': [253]}          NaN   \n",
       "63582           {'text': ['37건'], 'answer_start': [129]}          NaN   \n",
       "63583          {'text': ['콜리스틴'], 'answer_start': [404]}          NaN   \n",
       "63584  {'text': ['The Lancet Infectious Diseases'], '...          NaN   \n",
       "\n",
       "       __index_level_0__  \n",
       "0                   42.0  \n",
       "1                 2873.0  \n",
       "2                  230.0  \n",
       "3                  992.0  \n",
       "4                  548.0  \n",
       "...                  ...  \n",
       "63580                NaN  \n",
       "63581                NaN  \n",
       "63582                NaN  \n",
       "63583                NaN  \n",
       "63584                NaN  \n",
       "\n",
       "[63585 rows x 7 columns]"
      ]
     },
     "execution_count": 23,
     "metadata": {},
     "output_type": "execute_result"
    }
   ],
   "source": [
    "raw_train_df_augmentation"
   ]
  },
  {
   "cell_type": "code",
   "execution_count": 34,
   "metadata": {},
   "outputs": [],
   "source": [
    "from datasets import Dataset"
   ]
  },
  {
   "cell_type": "code",
   "execution_count": 42,
   "metadata": {},
   "outputs": [],
   "source": [
    "df_train_filter_2 = df_train_filter_2.rename(columns={'html': 'document_id'})"
   ]
  },
  {
   "cell_type": "code",
   "execution_count": 43,
   "metadata": {},
   "outputs": [],
   "source": [
    "# train_dataset = Dataset.from_pandas(raw_train_df_augmentation, preserve_index=False)\n",
    "train_dataset = Dataset.from_pandas(df_train_filter_2, preserve_index=False)"
   ]
  },
  {
   "cell_type": "markdown",
   "metadata": {},
   "source": [
    "# Valid는 증강안함"
   ]
  },
  {
   "cell_type": "code",
   "execution_count": 44,
   "metadata": {},
   "outputs": [],
   "source": [
    "validation_dataset=datasets['validation']"
   ]
  },
  {
   "cell_type": "markdown",
   "metadata": {},
   "source": [
    "# Final output"
   ]
  },
  {
   "cell_type": "code",
   "execution_count": 45,
   "metadata": {},
   "outputs": [],
   "source": [
    "from datasets import DatasetDict"
   ]
  },
  {
   "cell_type": "code",
   "execution_count": 47,
   "metadata": {},
   "outputs": [
    {
     "name": "stdout",
     "output_type": "stream",
     "text": [
      "DatasetDict({\n",
      "    train: Dataset({\n",
      "        features: ['id', 'title', 'context', 'question', 'answers', 'document_id'],\n",
      "        num_rows: 20100\n",
      "    })\n",
      "    validation: Dataset({\n",
      "        features: ['title', 'context', 'question', 'id', 'answers', 'document_id', '__index_level_0__'],\n",
      "        num_rows: 240\n",
      "    })\n",
      "})\n"
     ]
    }
   ],
   "source": [
    "dataset_dict = DatasetDict({\n",
    "    'train': train_dataset,\n",
    "    'validation': validation_dataset\n",
    "})\n",
    "\n",
    "print(dataset_dict)"
   ]
  },
  {
   "cell_type": "code",
   "execution_count": 48,
   "metadata": {},
   "outputs": [
    {
     "name": "stderr",
     "output_type": "stream",
     "text": [
      "Saving the dataset (1/1 shards): 100%|██████████| 20100/20100 [00:00<00:00, 64228.27 examples/s] \n",
      "Saving the dataset (1/1 shards): 100%|██████████| 240/240 [00:00<00:00, 45315.25 examples/s]\n"
     ]
    }
   ],
   "source": [
    "dataset_dict.save_to_disk('../resources/data_kosquadv1_train_dataset_sample')"
   ]
  },
  {
   "cell_type": "code",
   "execution_count": null,
   "metadata": {},
   "outputs": [],
   "source": []
  }
 ],
 "metadata": {
  "kernelspec": {
   "display_name": ".venv_sh",
   "language": "python",
   "name": "python3"
  },
  "language_info": {
   "codemirror_mode": {
    "name": "ipython",
    "version": 3
   },
   "file_extension": ".py",
   "mimetype": "text/x-python",
   "name": "python",
   "nbconvert_exporter": "python",
   "pygments_lexer": "ipython3",
   "version": "3.10.13"
  }
 },
 "nbformat": 4,
 "nbformat_minor": 4
}
