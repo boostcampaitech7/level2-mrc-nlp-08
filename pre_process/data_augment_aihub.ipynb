{
 "cells": [
  {
   "cell_type": "markdown",
   "metadata": {},
   "source": [
    "# 오픈 데이터 추가"
   ]
  },
  {
   "cell_type": "code",
   "execution_count": 1,
   "metadata": {},
   "outputs": [],
   "source": [
    "import json\n",
    "import numpy as np\n",
    "from tqdm import tqdm"
   ]
  },
  {
   "cell_type": "code",
   "execution_count": 2,
   "metadata": {},
   "outputs": [],
   "source": [
    "def read_json(file_path: str):\n",
    "    with open(file_path) as f:\n",
    "        dic = json.load(f)\n",
    "    return dic"
   ]
  },
  {
   "cell_type": "code",
   "execution_count": 26,
   "metadata": {},
   "outputs": [],
   "source": [
    "# 추출형 데이터 불러오기 \n",
    "train_extraction_extracion = read_json(\"/dev/shm/open_data/training/TL_span_extraction.json\")\n",
    "validation_extraction_extracion = read_json(\"/dev/shm/open_data/validation/VL_span_extraction.json\")"
   ]
  },
  {
   "cell_type": "code",
   "execution_count": 27,
   "metadata": {},
   "outputs": [
    {
     "data": {
      "text/plain": [
       "dict_keys(['Dataset', 'data'])"
      ]
     },
     "execution_count": 27,
     "metadata": {},
     "output_type": "execute_result"
    }
   ],
   "source": [
    "train_extraction_extracion.keys()"
   ]
  },
  {
   "cell_type": "code",
   "execution_count": 28,
   "metadata": {},
   "outputs": [
    {
     "data": {
      "text/plain": [
       "(111967, 13997)"
      ]
     },
     "execution_count": 28,
     "metadata": {},
     "output_type": "execute_result"
    }
   ],
   "source": [
    "len(train_extraction_extracion['data']), len(validation_extraction_extracion['data'])"
   ]
  },
  {
   "cell_type": "code",
   "execution_count": 3,
   "metadata": {},
   "outputs": [],
   "source": [
    "# 추론형 데이터 불러오기\n",
    "train_inference_extracion = read_json(\"/dev/shm/open_data/training/TL_span_inference.json\")\n",
    "validation_inference_extracion = read_json(\"/dev/shm/open_data/validation/VL_span_inference.json\")"
   ]
  },
  {
   "cell_type": "code",
   "execution_count": 4,
   "metadata": {},
   "outputs": [
    {
     "data": {
      "text/plain": [
       "(15992, 1999)"
      ]
     },
     "execution_count": 4,
     "metadata": {},
     "output_type": "execute_result"
    }
   ],
   "source": [
    "len(train_inference_extracion['data']), len(validation_inference_extracion['data'])"
   ]
  },
  {
   "cell_type": "markdown",
   "metadata": {},
   "source": [
    "# Dataset Filtering"
   ]
  },
  {
   "cell_type": "code",
   "execution_count": 5,
   "metadata": {},
   "outputs": [
    {
     "name": "stderr",
     "output_type": "stream",
     "text": [
      "/data/ephemeral/home/sh/level2-mrc-nlp-08/.venv_sh/lib/python3.10/site-packages/tqdm/auto.py:21: TqdmWarning: IProgress not found. Please update jupyter and ipywidgets. See https://ipywidgets.readthedocs.io/en/stable/user_install.html\n",
      "  from .autonotebook import tqdm as notebook_tqdm\n"
     ]
    }
   ],
   "source": [
    "from transformers import AutoModel, AutoTokenizer\n",
    "tokenizer = AutoTokenizer.from_pretrained(\"LGAI-EXAONE/EXAONE-3.0-7.8B-Instruct\")"
   ]
  },
  {
   "cell_type": "code",
   "execution_count": 7,
   "metadata": {},
   "outputs": [
    {
     "name": "stderr",
     "output_type": "stream",
     "text": [
      "  0%|          | 0/15992 [00:00<?, ?it/s]"
     ]
    },
    {
     "name": "stderr",
     "output_type": "stream",
     "text": [
      "100%|██████████| 15992/15992 [00:46<00:00, 342.73it/s]\n"
     ]
    }
   ],
   "source": [
    "train_filter_lst = []\n",
    "ids = 0\n",
    "for row in tqdm(train_inference_extracion['data'], total=len(train_inference_extracion['data'])):\n",
    "    # print(row)\n",
    "    doc_id = row['doc_id']\n",
    "    doc_title = row['doc_title']\n",
    "    doc_class = row['doc_class']['code']\n",
    "    context = row['paragraphs'][0]['context']\n",
    "    # context 토큰 1500 초과 제거\n",
    "    if len(tokenizer.encode(context)) > 1500:\n",
    "        continue\n",
    "\n",
    "    question_answer_lst = row['paragraphs'][0]['qas']\n",
    "    # question 토큰 35 초과 제거 / context 토큰 1500 초과 제거 / answer 토큰 20 초과 제거\n",
    "    for qas in question_answer_lst:\n",
    "        question = qas['question']\n",
    "        # question 토큰 35 초과 제거\n",
    "        if len(tokenizer.encode(question)) > 35:\n",
    "            continue\n",
    "        \n",
    "        text = qas['answers']['text']\n",
    "        # answer 토큰 20 초과 제거\n",
    "        if len(tokenizer.encode(text)) > 20:\n",
    "            continue\n",
    "        \n",
    "        answer_start = qas['answers']['answer_start']\n",
    "        ids+=1\n",
    "        train_filter_lst.append([ids, doc_id, doc_title, question, context, {'answer_start':[answer_start], 'text':[text]}])\n"
   ]
  },
  {
   "cell_type": "code",
   "execution_count": 8,
   "metadata": {},
   "outputs": [],
   "source": [
    "import pandas as pd"
   ]
  },
  {
   "cell_type": "code",
   "execution_count": 9,
   "metadata": {},
   "outputs": [],
   "source": [
    "'''\n",
    "title\tcontext\tquestion\tid\tanswers\tdocument_id\t__index_level_0__\n",
    "0\t미국 상원\t미국 상의원 또는 미국 상원(United States Senate)은 양원제인 미국...\t대통령을 포함한 미국의 행정부 견제권을 갖는 국가 기관은?\tmrc-1-000067\t{'answer_start': [235], 'text': ['하원']}\t18293.0\t42.0\n",
    "1\t인사조직관리\t'근대적 경영학' 또는 '고전적 경영학'에서 현대적 경영학으로 전환되는 시기는 19...\t현대적 인사조직관리의 시발점이 된 책은?\tmrc-0-004397\t{'answer_start': [212], 'text': ['《경영의 실제》']}\t51638.0\t2873.0\n",
    "'''\n",
    "\n",
    "columns = ['id', 'document_id', 'title', 'question', 'context', 'answers']\n",
    "df_train = pd.DataFrame(train_filter_lst, columns=columns)"
   ]
  },
  {
   "cell_type": "code",
   "execution_count": 10,
   "metadata": {},
   "outputs": [
    {
     "data": {
      "text/html": [
       "<div>\n",
       "<style scoped>\n",
       "    .dataframe tbody tr th:only-of-type {\n",
       "        vertical-align: middle;\n",
       "    }\n",
       "\n",
       "    .dataframe tbody tr th {\n",
       "        vertical-align: top;\n",
       "    }\n",
       "\n",
       "    .dataframe thead th {\n",
       "        text-align: right;\n",
       "    }\n",
       "</style>\n",
       "<table border=\"1\" class=\"dataframe\">\n",
       "  <thead>\n",
       "    <tr style=\"text-align: right;\">\n",
       "      <th></th>\n",
       "      <th>id</th>\n",
       "      <th>document_id</th>\n",
       "      <th>title</th>\n",
       "      <th>question</th>\n",
       "      <th>context</th>\n",
       "      <th>answers</th>\n",
       "    </tr>\n",
       "  </thead>\n",
       "  <tbody>\n",
       "    <tr>\n",
       "      <th>0</th>\n",
       "      <td>1</td>\n",
       "      <td>01400601.20210325223148001</td>\n",
       "      <td>충북도 5843억 투입, 일자리 10만8800개 창출</td>\n",
       "      <td>창업 아이템 경진대회에 참가할 수 있으며 청춘잡담도 이용할 수 있는 대상이 누구야</td>\n",
       "      <td>충북도가 5843억원을 투입해 지역일자리 10만8000개 창출과 고용률 72% 달성...</td>\n",
       "      <td>{'answer_start': [700], 'text': ['청년여성']}</td>\n",
       "    </tr>\n",
       "    <tr>\n",
       "      <th>1</th>\n",
       "      <td>2</td>\n",
       "      <td>01400601.20210325223148001</td>\n",
       "      <td>충북도 5843억 투입, 일자리 10만8800개 창출</td>\n",
       "      <td>청춘잡담을 이용할 수도 있는 창업 아이템 경진대회 참가 대상자는 어떤 사람들이야</td>\n",
       "      <td>충북도가 5843억원을 투입해 지역일자리 10만8000개 창출과 고용률 72% 달성...</td>\n",
       "      <td>{'answer_start': [700], 'text': ['청년여성']}</td>\n",
       "    </tr>\n",
       "    <tr>\n",
       "      <th>2</th>\n",
       "      <td>3</td>\n",
       "      <td>01400601.20210325175451001</td>\n",
       "      <td>공직유관단체장·기초의원 175명 재산 공개</td>\n",
       "      <td>도 공직자윤리위원회의 조사에 따르면 충남의 현직 지방 의원 중 자산이 가장 많은 사...</td>\n",
       "      <td>충남도 공직자윤리위원회는 도내 각 시ㆍ군의회 의원과 서산의료원장 등 도 관할 대상자...</td>\n",
       "      <td>{'answer_start': [817], 'text': ['맹의석']}</td>\n",
       "    </tr>\n",
       "    <tr>\n",
       "      <th>3</th>\n",
       "      <td>4</td>\n",
       "      <td>01400601.20210325175451001</td>\n",
       "      <td>공직유관단체장·기초의원 175명 재산 공개</td>\n",
       "      <td>충청남도 지방의회 의원 중에서 누가 재산이 가장 많은 걸로 도 공직자윤리위원회 조사...</td>\n",
       "      <td>충남도 공직자윤리위원회는 도내 각 시ㆍ군의회 의원과 서산의료원장 등 도 관할 대상자...</td>\n",
       "      <td>{'answer_start': [817], 'text': ['맹의석']}</td>\n",
       "    </tr>\n",
       "    <tr>\n",
       "      <th>4</th>\n",
       "      <td>5</td>\n",
       "      <td>01400601.20210325223159001</td>\n",
       "      <td>솔밭중, 온라인 학교설명회</td>\n",
       "      <td>솔밭중이 한 해 동안 학교를 어떻게 이끌어갈 것이지 설명한 회의는 어느 플랫폼에서 열렸어</td>\n",
       "      <td>충북 청주 솔밭중은 25일 온라인 학교설명회와 학부모 총회를 열었다. \\n\\n202...</td>\n",
       "      <td>{'answer_start': [145], 'text': ['유튜브']}</td>\n",
       "    </tr>\n",
       "    <tr>\n",
       "      <th>...</th>\n",
       "      <td>...</td>\n",
       "      <td>...</td>\n",
       "      <td>...</td>\n",
       "      <td>...</td>\n",
       "      <td>...</td>\n",
       "      <td>...</td>\n",
       "    </tr>\n",
       "    <tr>\n",
       "      <th>31632</th>\n",
       "      <td>31633</td>\n",
       "      <td>01101101.20210415174300001</td>\n",
       "      <td>노인 변비, 소화 문제 아니라 '신체 노쇠' 신호탄?</td>\n",
       "      <td>변비와 신체 노쇠에 대한 예방법을 말한 건 누구야</td>\n",
       "      <td>고령인에게 생기는 변비는 단순히 소화 문제를 넘어 평소에는 알아차리지 못했던 ‘신체...</td>\n",
       "      <td>{'answer_start': [98], 'text': ['정희원']}</td>\n",
       "    </tr>\n",
       "    <tr>\n",
       "      <th>31633</th>\n",
       "      <td>31634</td>\n",
       "      <td>01101101.20210415123111001</td>\n",
       "      <td>원희룡, 김종인과 선 긋기 \"윤석열 국민의힘 안 간다? 본인도 모를 것\"</td>\n",
       "      <td>김종인의 말에 반박한 사람이 나온 라디오 프로그램의 이름은 뭐야</td>\n",
       "      <td>내년 대선 출마를 시사한 원희룡 제주지사가 최근 김종인 전 국민의힘 비상대책위원장의...</td>\n",
       "      <td>{'answer_start': [197], 'text': ['최경영의 최강시사']}</td>\n",
       "    </tr>\n",
       "    <tr>\n",
       "      <th>31634</th>\n",
       "      <td>31635</td>\n",
       "      <td>01101101.20210415123111001</td>\n",
       "      <td>원희룡, 김종인과 선 긋기 \"윤석열 국민의힘 안 간다? 본인도 모를 것\"</td>\n",
       "      <td>어떤 라디오 프로그램에 김종인의 말에 반박한 사람이 나온 거야</td>\n",
       "      <td>내년 대선 출마를 시사한 원희룡 제주지사가 최근 김종인 전 국민의힘 비상대책위원장의...</td>\n",
       "      <td>{'answer_start': [197], 'text': ['최경영의 최강시사']}</td>\n",
       "    </tr>\n",
       "    <tr>\n",
       "      <th>31635</th>\n",
       "      <td>31636</td>\n",
       "      <td>01101101.20210415082251001</td>\n",
       "      <td>블락비 데뷔 10주년...깜짝 생방송 출동</td>\n",
       "      <td>팬클럽 이름이 BBC인 그룹은 어디를 통해 팬들에게 10주년 소감을 전했어</td>\n",
       "      <td>그룹 블락비(Block B)가 데뷔 10주년을 맞았다.\\n지난 2011년 4월 15...</td>\n",
       "      <td>{'answer_start': [462], 'text': ['세븐시즌스']}</td>\n",
       "    </tr>\n",
       "    <tr>\n",
       "      <th>31636</th>\n",
       "      <td>31637</td>\n",
       "      <td>01101101.20210415082251001</td>\n",
       "      <td>블락비 데뷔 10주년...깜짝 생방송 출동</td>\n",
       "      <td>팬클럽 이름이 BBC인 그룹은 어떤 걸 통해 팬들에게 10주년 소감을 전했어</td>\n",
       "      <td>그룹 블락비(Block B)가 데뷔 10주년을 맞았다.\\n지난 2011년 4월 15...</td>\n",
       "      <td>{'answer_start': [462], 'text': ['세븐시즌스']}</td>\n",
       "    </tr>\n",
       "  </tbody>\n",
       "</table>\n",
       "<p>31637 rows × 6 columns</p>\n",
       "</div>"
      ],
      "text/plain": [
       "          id                 document_id  \\\n",
       "0          1  01400601.20210325223148001   \n",
       "1          2  01400601.20210325223148001   \n",
       "2          3  01400601.20210325175451001   \n",
       "3          4  01400601.20210325175451001   \n",
       "4          5  01400601.20210325223159001   \n",
       "...      ...                         ...   \n",
       "31632  31633  01101101.20210415174300001   \n",
       "31633  31634  01101101.20210415123111001   \n",
       "31634  31635  01101101.20210415123111001   \n",
       "31635  31636  01101101.20210415082251001   \n",
       "31636  31637  01101101.20210415082251001   \n",
       "\n",
       "                                          title  \\\n",
       "0                 충북도 5843억 투입, 일자리 10만8800개 창출   \n",
       "1                 충북도 5843억 투입, 일자리 10만8800개 창출   \n",
       "2                       공직유관단체장·기초의원 175명 재산 공개   \n",
       "3                       공직유관단체장·기초의원 175명 재산 공개   \n",
       "4                                솔밭중, 온라인 학교설명회   \n",
       "...                                         ...   \n",
       "31632             노인 변비, 소화 문제 아니라 '신체 노쇠' 신호탄?   \n",
       "31633  원희룡, 김종인과 선 긋기 \"윤석열 국민의힘 안 간다? 본인도 모를 것\"   \n",
       "31634  원희룡, 김종인과 선 긋기 \"윤석열 국민의힘 안 간다? 본인도 모를 것\"   \n",
       "31635                   블락비 데뷔 10주년...깜짝 생방송 출동   \n",
       "31636                   블락비 데뷔 10주년...깜짝 생방송 출동   \n",
       "\n",
       "                                                question  \\\n",
       "0          창업 아이템 경진대회에 참가할 수 있으며 청춘잡담도 이용할 수 있는 대상이 누구야   \n",
       "1           청춘잡담을 이용할 수도 있는 창업 아이템 경진대회 참가 대상자는 어떤 사람들이야   \n",
       "2      도 공직자윤리위원회의 조사에 따르면 충남의 현직 지방 의원 중 자산이 가장 많은 사...   \n",
       "3      충청남도 지방의회 의원 중에서 누가 재산이 가장 많은 걸로 도 공직자윤리위원회 조사...   \n",
       "4      솔밭중이 한 해 동안 학교를 어떻게 이끌어갈 것이지 설명한 회의는 어느 플랫폼에서 열렸어   \n",
       "...                                                  ...   \n",
       "31632                        변비와 신체 노쇠에 대한 예방법을 말한 건 누구야   \n",
       "31633                김종인의 말에 반박한 사람이 나온 라디오 프로그램의 이름은 뭐야   \n",
       "31634                 어떤 라디오 프로그램에 김종인의 말에 반박한 사람이 나온 거야   \n",
       "31635          팬클럽 이름이 BBC인 그룹은 어디를 통해 팬들에게 10주년 소감을 전했어   \n",
       "31636         팬클럽 이름이 BBC인 그룹은 어떤 걸 통해 팬들에게 10주년 소감을 전했어   \n",
       "\n",
       "                                                 context  \\\n",
       "0      충북도가 5843억원을 투입해 지역일자리 10만8000개 창출과 고용률 72% 달성...   \n",
       "1      충북도가 5843억원을 투입해 지역일자리 10만8000개 창출과 고용률 72% 달성...   \n",
       "2      충남도 공직자윤리위원회는 도내 각 시ㆍ군의회 의원과 서산의료원장 등 도 관할 대상자...   \n",
       "3      충남도 공직자윤리위원회는 도내 각 시ㆍ군의회 의원과 서산의료원장 등 도 관할 대상자...   \n",
       "4      충북 청주 솔밭중은 25일 온라인 학교설명회와 학부모 총회를 열었다. \\n\\n202...   \n",
       "...                                                  ...   \n",
       "31632  고령인에게 생기는 변비는 단순히 소화 문제를 넘어 평소에는 알아차리지 못했던 ‘신체...   \n",
       "31633  내년 대선 출마를 시사한 원희룡 제주지사가 최근 김종인 전 국민의힘 비상대책위원장의...   \n",
       "31634  내년 대선 출마를 시사한 원희룡 제주지사가 최근 김종인 전 국민의힘 비상대책위원장의...   \n",
       "31635  그룹 블락비(Block B)가 데뷔 10주년을 맞았다.\\n지난 2011년 4월 15...   \n",
       "31636  그룹 블락비(Block B)가 데뷔 10주년을 맞았다.\\n지난 2011년 4월 15...   \n",
       "\n",
       "                                              answers  \n",
       "0           {'answer_start': [700], 'text': ['청년여성']}  \n",
       "1           {'answer_start': [700], 'text': ['청년여성']}  \n",
       "2            {'answer_start': [817], 'text': ['맹의석']}  \n",
       "3            {'answer_start': [817], 'text': ['맹의석']}  \n",
       "4            {'answer_start': [145], 'text': ['유튜브']}  \n",
       "...                                               ...  \n",
       "31632         {'answer_start': [98], 'text': ['정희원']}  \n",
       "31633  {'answer_start': [197], 'text': ['최경영의 최강시사']}  \n",
       "31634  {'answer_start': [197], 'text': ['최경영의 최강시사']}  \n",
       "31635      {'answer_start': [462], 'text': ['세븐시즌스']}  \n",
       "31636      {'answer_start': [462], 'text': ['세븐시즌스']}  \n",
       "\n",
       "[31637 rows x 6 columns]"
      ]
     },
     "execution_count": 10,
     "metadata": {},
     "output_type": "execute_result"
    }
   ],
   "source": [
    "df_train"
   ]
  },
  {
   "cell_type": "code",
   "execution_count": 11,
   "metadata": {},
   "outputs": [],
   "source": [
    "from datasets import load_from_disk\n",
    "datasets = load_from_disk(\"../resources/data/train_dataset\") # 기존 train dataset"
   ]
  },
  {
   "cell_type": "code",
   "execution_count": 12,
   "metadata": {},
   "outputs": [],
   "source": [
    "from datasets import Dataset\n",
    "train_dataset = Dataset.from_pandas(df_train, preserve_index=False)\n",
    "validation_dataset=datasets['validation']"
   ]
  },
  {
   "cell_type": "code",
   "execution_count": 13,
   "metadata": {},
   "outputs": [],
   "source": [
    "from datasets import DatasetDict"
   ]
  },
  {
   "cell_type": "code",
   "execution_count": 14,
   "metadata": {},
   "outputs": [
    {
     "name": "stdout",
     "output_type": "stream",
     "text": [
      "DatasetDict({\n",
      "    train: Dataset({\n",
      "        features: ['id', 'document_id', 'title', 'question', 'context', 'answers'],\n",
      "        num_rows: 31637\n",
      "    })\n",
      "    validation: Dataset({\n",
      "        features: ['title', 'context', 'question', 'id', 'answers', 'document_id', '__index_level_0__'],\n",
      "        num_rows: 240\n",
      "    })\n",
      "})\n"
     ]
    }
   ],
   "source": [
    "dataset_dict = DatasetDict({\n",
    "    'train': train_dataset,\n",
    "    'validation': validation_dataset\n",
    "})\n",
    "\n",
    "print(dataset_dict)"
   ]
  },
  {
   "cell_type": "code",
   "execution_count": 15,
   "metadata": {},
   "outputs": [
    {
     "name": "stderr",
     "output_type": "stream",
     "text": [
      "Saving the dataset (0/1 shards):  32%|███▏      | 10000/31637 [00:00<00:00, 94223.53 examples/s]"
     ]
    },
    {
     "name": "stderr",
     "output_type": "stream",
     "text": [
      "Saving the dataset (1/1 shards): 100%|██████████| 31637/31637 [00:00<00:00, 46164.24 examples/s] \n",
      "Saving the dataset (1/1 shards): 100%|██████████| 240/240 [00:00<00:00, 42549.37 examples/s]\n"
     ]
    }
   ],
   "source": [
    "dataset_dict.save_to_disk('../resources/data_aihub_train_dataset')"
   ]
  }
 ],
 "metadata": {
  "kernelspec": {
   "display_name": ".venv_sh",
   "language": "python",
   "name": "python3"
  },
  "language_info": {
   "codemirror_mode": {
    "name": "ipython",
    "version": 3
   },
   "file_extension": ".py",
   "mimetype": "text/x-python",
   "name": "python",
   "nbconvert_exporter": "python",
   "pygments_lexer": "ipython3",
   "version": "3.10.13"
  }
 },
 "nbformat": 4,
 "nbformat_minor": 2
}
